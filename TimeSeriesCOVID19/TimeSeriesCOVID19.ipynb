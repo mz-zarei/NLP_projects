{
  "cells": [
    {
      "cell_type": "markdown",
      "metadata": {
        "id": "view-in-github",
        "colab_type": "text"
      },
      "source": [
        "<a href=\"https://colab.research.google.com/github/mz-zarei/SequentialModels_projects/blob/main/TimeSeriesCOVID19.ipynb\" target=\"_parent\"><img src=\"https://colab.research.google.com/assets/colab-badge.svg\" alt=\"Open In Colab\"/></a>"
      ]
    },
    {
      "cell_type": "markdown",
      "metadata": {
        "id": "Q9GCWr5RZwTm"
      },
      "source": [
        "# Comparing time series predictions of COVID-19 deaths"
      ]
    },
    {
      "cell_type": "markdown",
      "metadata": {
        "id": "ZyBkw2uMZwTs"
      },
      "source": [
        "\n",
        "![Comparison](Comparison.png)"
      ]
    },
    {
      "cell_type": "code",
      "execution_count": 3,
      "metadata": {
        "id": "FUP7gKfWZwTt"
      },
      "outputs": [],
      "source": [
        "# !pip install pmdarima\n",
        "import pmdarima as pm\n",
        "from statsmodels.tsa.seasonal import seasonal_decompose\n",
        "from sklearn.model_selection import TimeSeriesSplit\n",
        "import pandas as pd\n",
        "import numpy as np\n",
        "import datetime\n",
        "import requests\n",
        "import warnings\n",
        "\n",
        "import matplotlib.pyplot as plt\n",
        "import matplotlib\n",
        "import matplotlib.dates as mdates\n",
        "\n",
        "from xgboost import XGBRegressor\n",
        "from sklearn.ensemble import RandomForestRegressor\n",
        "from sklearn.metrics import mean_squared_error, mean_absolute_error\n",
        "from sklearn.preprocessing import OrdinalEncoder\n",
        "from sklearn.svm import SVR\n",
        "from sklearn.model_selection import train_test_split\n",
        "from statsmodels.tsa.statespace.sarimax import SARIMAX\n",
        "from statsmodels.tsa.arima_model import ARIMA\n",
        "from sklearn.preprocessing import StandardScaler\n",
        "from fbprophet import Prophet\n",
        "from fbprophet.plot import plot_plotly, add_changepoints_to_plot\n",
        "from keras.models import Sequential\n",
        "from keras.layers import Dense\n",
        "\n",
        "from tensorflow.keras.optimizers import Adam\n",
        "\n",
        "warnings.filterwarnings('ignore')\n"
      ]
    },
    {
      "cell_type": "markdown",
      "metadata": {
        "id": "1feRKIgTZwTv"
      },
      "source": [
        "# Task 1: Open the data and prepare the dataset data frame"
      ]
    },
    {
      "cell_type": "code",
      "execution_count": 4,
      "metadata": {
        "id": "akrI_Wn_ZwTw"
      },
      "outputs": [],
      "source": [
        "deaths_df = pd.read_csv('time_series_covid19_deaths_global.csv')"
      ]
    },
    {
      "cell_type": "markdown",
      "metadata": {
        "id": "LPTnuHlAZwTx"
      },
      "source": [
        "First, get the data for the daily deaths in all countries in the report"
      ]
    },
    {
      "cell_type": "code",
      "execution_count": 7,
      "metadata": {
        "colab": {
          "base_uri": "https://localhost:8080/",
          "height": 299
        },
        "id": "wsnNfiolZwTx",
        "outputId": "ec4a0823-2b56-4030-9320-f866146d4d48"
      },
      "outputs": [
        {
          "output_type": "execute_result",
          "data": {
            "text/plain": [
              "     1/22/20  1/23/20  1/24/20  1/25/20  1/26/20  1/27/20  1/28/20  1/29/20  \\\n",
              "261        0        0        0        0        0        0        0        0   \n",
              "262        0        0        0        0        0        0        0        0   \n",
              "263        0        0        0        0        0        0        0        0   \n",
              "264        0        0        0        0        0        0        0        0   \n",
              "265        0        0        0        0        0        0        0        0   \n",
              "\n",
              "     1/30/20  1/31/20  ...  8/7/20  8/8/20  8/9/20  8/10/20  8/11/20  8/12/20  \\\n",
              "261        0        0  ...      94      96      97      100      104      105   \n",
              "262        0        0  ...       1       1       1        1        1        1   \n",
              "263        0        0  ...     512     512     515      518      523      528   \n",
              "264        0        0  ...     200     203     235      241      241      246   \n",
              "265        0        0  ...     102     102     104      104      104      122   \n",
              "\n",
              "     8/13/20  8/14/20  8/15/20  8/16/20  \n",
              "261      106      106      108      110  \n",
              "262        1        1        1        1  \n",
              "263      528      528      528      530  \n",
              "264      246      256      260      260  \n",
              "265      128      128      130      132  \n",
              "\n",
              "[5 rows x 208 columns]"
            ],
            "text/html": [
              "\n",
              "  <div id=\"df-803e3e39-ea38-4428-93bf-a7f46cf04f83\">\n",
              "    <div class=\"colab-df-container\">\n",
              "      <div>\n",
              "<style scoped>\n",
              "    .dataframe tbody tr th:only-of-type {\n",
              "        vertical-align: middle;\n",
              "    }\n",
              "\n",
              "    .dataframe tbody tr th {\n",
              "        vertical-align: top;\n",
              "    }\n",
              "\n",
              "    .dataframe thead th {\n",
              "        text-align: right;\n",
              "    }\n",
              "</style>\n",
              "<table border=\"1\" class=\"dataframe\">\n",
              "  <thead>\n",
              "    <tr style=\"text-align: right;\">\n",
              "      <th></th>\n",
              "      <th>1/22/20</th>\n",
              "      <th>1/23/20</th>\n",
              "      <th>1/24/20</th>\n",
              "      <th>1/25/20</th>\n",
              "      <th>1/26/20</th>\n",
              "      <th>1/27/20</th>\n",
              "      <th>1/28/20</th>\n",
              "      <th>1/29/20</th>\n",
              "      <th>1/30/20</th>\n",
              "      <th>1/31/20</th>\n",
              "      <th>...</th>\n",
              "      <th>8/7/20</th>\n",
              "      <th>8/8/20</th>\n",
              "      <th>8/9/20</th>\n",
              "      <th>8/10/20</th>\n",
              "      <th>8/11/20</th>\n",
              "      <th>8/12/20</th>\n",
              "      <th>8/13/20</th>\n",
              "      <th>8/14/20</th>\n",
              "      <th>8/15/20</th>\n",
              "      <th>8/16/20</th>\n",
              "    </tr>\n",
              "  </thead>\n",
              "  <tbody>\n",
              "    <tr>\n",
              "      <th>261</th>\n",
              "      <td>0</td>\n",
              "      <td>0</td>\n",
              "      <td>0</td>\n",
              "      <td>0</td>\n",
              "      <td>0</td>\n",
              "      <td>0</td>\n",
              "      <td>0</td>\n",
              "      <td>0</td>\n",
              "      <td>0</td>\n",
              "      <td>0</td>\n",
              "      <td>...</td>\n",
              "      <td>94</td>\n",
              "      <td>96</td>\n",
              "      <td>97</td>\n",
              "      <td>100</td>\n",
              "      <td>104</td>\n",
              "      <td>105</td>\n",
              "      <td>106</td>\n",
              "      <td>106</td>\n",
              "      <td>108</td>\n",
              "      <td>110</td>\n",
              "    </tr>\n",
              "    <tr>\n",
              "      <th>262</th>\n",
              "      <td>0</td>\n",
              "      <td>0</td>\n",
              "      <td>0</td>\n",
              "      <td>0</td>\n",
              "      <td>0</td>\n",
              "      <td>0</td>\n",
              "      <td>0</td>\n",
              "      <td>0</td>\n",
              "      <td>0</td>\n",
              "      <td>0</td>\n",
              "      <td>...</td>\n",
              "      <td>1</td>\n",
              "      <td>1</td>\n",
              "      <td>1</td>\n",
              "      <td>1</td>\n",
              "      <td>1</td>\n",
              "      <td>1</td>\n",
              "      <td>1</td>\n",
              "      <td>1</td>\n",
              "      <td>1</td>\n",
              "      <td>1</td>\n",
              "    </tr>\n",
              "    <tr>\n",
              "      <th>263</th>\n",
              "      <td>0</td>\n",
              "      <td>0</td>\n",
              "      <td>0</td>\n",
              "      <td>0</td>\n",
              "      <td>0</td>\n",
              "      <td>0</td>\n",
              "      <td>0</td>\n",
              "      <td>0</td>\n",
              "      <td>0</td>\n",
              "      <td>0</td>\n",
              "      <td>...</td>\n",
              "      <td>512</td>\n",
              "      <td>512</td>\n",
              "      <td>515</td>\n",
              "      <td>518</td>\n",
              "      <td>523</td>\n",
              "      <td>528</td>\n",
              "      <td>528</td>\n",
              "      <td>528</td>\n",
              "      <td>528</td>\n",
              "      <td>530</td>\n",
              "    </tr>\n",
              "    <tr>\n",
              "      <th>264</th>\n",
              "      <td>0</td>\n",
              "      <td>0</td>\n",
              "      <td>0</td>\n",
              "      <td>0</td>\n",
              "      <td>0</td>\n",
              "      <td>0</td>\n",
              "      <td>0</td>\n",
              "      <td>0</td>\n",
              "      <td>0</td>\n",
              "      <td>0</td>\n",
              "      <td>...</td>\n",
              "      <td>200</td>\n",
              "      <td>203</td>\n",
              "      <td>235</td>\n",
              "      <td>241</td>\n",
              "      <td>241</td>\n",
              "      <td>246</td>\n",
              "      <td>246</td>\n",
              "      <td>256</td>\n",
              "      <td>260</td>\n",
              "      <td>260</td>\n",
              "    </tr>\n",
              "    <tr>\n",
              "      <th>265</th>\n",
              "      <td>0</td>\n",
              "      <td>0</td>\n",
              "      <td>0</td>\n",
              "      <td>0</td>\n",
              "      <td>0</td>\n",
              "      <td>0</td>\n",
              "      <td>0</td>\n",
              "      <td>0</td>\n",
              "      <td>0</td>\n",
              "      <td>0</td>\n",
              "      <td>...</td>\n",
              "      <td>102</td>\n",
              "      <td>102</td>\n",
              "      <td>104</td>\n",
              "      <td>104</td>\n",
              "      <td>104</td>\n",
              "      <td>122</td>\n",
              "      <td>128</td>\n",
              "      <td>128</td>\n",
              "      <td>130</td>\n",
              "      <td>132</td>\n",
              "    </tr>\n",
              "  </tbody>\n",
              "</table>\n",
              "<p>5 rows × 208 columns</p>\n",
              "</div>\n",
              "      <button class=\"colab-df-convert\" onclick=\"convertToInteractive('df-803e3e39-ea38-4428-93bf-a7f46cf04f83')\"\n",
              "              title=\"Convert this dataframe to an interactive table.\"\n",
              "              style=\"display:none;\">\n",
              "        \n",
              "  <svg xmlns=\"http://www.w3.org/2000/svg\" height=\"24px\"viewBox=\"0 0 24 24\"\n",
              "       width=\"24px\">\n",
              "    <path d=\"M0 0h24v24H0V0z\" fill=\"none\"/>\n",
              "    <path d=\"M18.56 5.44l.94 2.06.94-2.06 2.06-.94-2.06-.94-.94-2.06-.94 2.06-2.06.94zm-11 1L8.5 8.5l.94-2.06 2.06-.94-2.06-.94L8.5 2.5l-.94 2.06-2.06.94zm10 10l.94 2.06.94-2.06 2.06-.94-2.06-.94-.94-2.06-.94 2.06-2.06.94z\"/><path d=\"M17.41 7.96l-1.37-1.37c-.4-.4-.92-.59-1.43-.59-.52 0-1.04.2-1.43.59L10.3 9.45l-7.72 7.72c-.78.78-.78 2.05 0 2.83L4 21.41c.39.39.9.59 1.41.59.51 0 1.02-.2 1.41-.59l7.78-7.78 2.81-2.81c.8-.78.8-2.07 0-2.86zM5.41 20L4 18.59l7.72-7.72 1.47 1.35L5.41 20z\"/>\n",
              "  </svg>\n",
              "      </button>\n",
              "      \n",
              "  <style>\n",
              "    .colab-df-container {\n",
              "      display:flex;\n",
              "      flex-wrap:wrap;\n",
              "      gap: 12px;\n",
              "    }\n",
              "\n",
              "    .colab-df-convert {\n",
              "      background-color: #E8F0FE;\n",
              "      border: none;\n",
              "      border-radius: 50%;\n",
              "      cursor: pointer;\n",
              "      display: none;\n",
              "      fill: #1967D2;\n",
              "      height: 32px;\n",
              "      padding: 0 0 0 0;\n",
              "      width: 32px;\n",
              "    }\n",
              "\n",
              "    .colab-df-convert:hover {\n",
              "      background-color: #E2EBFA;\n",
              "      box-shadow: 0px 1px 2px rgba(60, 64, 67, 0.3), 0px 1px 3px 1px rgba(60, 64, 67, 0.15);\n",
              "      fill: #174EA6;\n",
              "    }\n",
              "\n",
              "    [theme=dark] .colab-df-convert {\n",
              "      background-color: #3B4455;\n",
              "      fill: #D2E3FC;\n",
              "    }\n",
              "\n",
              "    [theme=dark] .colab-df-convert:hover {\n",
              "      background-color: #434B5C;\n",
              "      box-shadow: 0px 1px 3px 1px rgba(0, 0, 0, 0.15);\n",
              "      filter: drop-shadow(0px 1px 2px rgba(0, 0, 0, 0.3));\n",
              "      fill: #FFFFFF;\n",
              "    }\n",
              "  </style>\n",
              "\n",
              "      <script>\n",
              "        const buttonEl =\n",
              "          document.querySelector('#df-803e3e39-ea38-4428-93bf-a7f46cf04f83 button.colab-df-convert');\n",
              "        buttonEl.style.display =\n",
              "          google.colab.kernel.accessAllowed ? 'block' : 'none';\n",
              "\n",
              "        async function convertToInteractive(key) {\n",
              "          const element = document.querySelector('#df-803e3e39-ea38-4428-93bf-a7f46cf04f83');\n",
              "          const dataTable =\n",
              "            await google.colab.kernel.invokeFunction('convertToInteractive',\n",
              "                                                     [key], {});\n",
              "          if (!dataTable) return;\n",
              "\n",
              "          const docLinkHtml = 'Like what you see? Visit the ' +\n",
              "            '<a target=\"_blank\" href=https://colab.research.google.com/notebooks/data_table.ipynb>data table notebook</a>'\n",
              "            + ' to learn more about interactive tables.';\n",
              "          element.innerHTML = '';\n",
              "          dataTable['output_type'] = 'display_data';\n",
              "          await google.colab.output.renderOutput(dataTable, element);\n",
              "          const docLink = document.createElement('div');\n",
              "          docLink.innerHTML = docLinkHtml;\n",
              "          element.appendChild(docLink);\n",
              "        }\n",
              "      </script>\n",
              "    </div>\n",
              "  </div>\n",
              "  "
            ]
          },
          "metadata": {},
          "execution_count": 7
        }
      ],
      "source": [
        "d = deaths_df.loc[:, '1/22/20':]\n",
        "d.tail()"
      ]
    },
    {
      "cell_type": "markdown",
      "metadata": {
        "id": "FSu2rfnKZwTy"
      },
      "source": [
        "Transpose the data frame"
      ]
    },
    {
      "cell_type": "code",
      "execution_count": 8,
      "metadata": {
        "id": "W509x-HiZwTz"
      },
      "outputs": [],
      "source": [
        "d = d.transpose()"
      ]
    },
    {
      "cell_type": "markdown",
      "metadata": {
        "id": "ATI5T9NAZwTz"
      },
      "source": [
        "Then sum row-wise"
      ]
    },
    {
      "cell_type": "code",
      "execution_count": 9,
      "metadata": {
        "id": "U3o2wxGBZwT0"
      },
      "outputs": [],
      "source": [
        "d = d.sum(axis=1)"
      ]
    },
    {
      "cell_type": "markdown",
      "metadata": {
        "id": "8yunJ5kFZwT0"
      },
      "source": [
        "We only need the numeric values here, so we convert `d` to a list"
      ]
    },
    {
      "cell_type": "code",
      "execution_count": 10,
      "metadata": {
        "id": "3oJWoNKwZwT1"
      },
      "outputs": [],
      "source": [
        "d = d.to_list()"
      ]
    },
    {
      "cell_type": "markdown",
      "metadata": {
        "id": "0CYigClZZwT1"
      },
      "source": [
        "Create a new data frame with two columns, which will be our dataset:"
      ]
    },
    {
      "cell_type": "code",
      "execution_count": 11,
      "metadata": {
        "id": "3fPCDtQ-ZwT1"
      },
      "outputs": [],
      "source": [
        "dataset = pd.DataFrame(columns =['ds', 'y'])"
      ]
    },
    {
      "cell_type": "markdown",
      "metadata": {
        "id": "4BVAeuATZwT2"
      },
      "source": [
        "Get the dates from the columns in `deaths_df` data frame, starting from the fifth column. They will be obtained in string format."
      ]
    },
    {
      "cell_type": "code",
      "execution_count": 12,
      "metadata": {
        "id": "e-zdls6KZwT2"
      },
      "outputs": [],
      "source": [
        "dates = list(deaths_df.columns[4:])"
      ]
    },
    {
      "cell_type": "markdown",
      "metadata": {
        "id": "Uf2SX2aMZwT2"
      },
      "source": [
        "Convert the string dates into the datetime format, so that we can perform datetime operations on them"
      ]
    },
    {
      "cell_type": "code",
      "execution_count": 13,
      "metadata": {
        "id": "S21023a6ZwT2"
      },
      "outputs": [],
      "source": [
        "dates = list(pd.to_datetime(dates))"
      ]
    },
    {
      "cell_type": "markdown",
      "metadata": {
        "id": "BkYjMr3jZwT3"
      },
      "source": [
        "Now, assign the dates and deaths data to the columns in the new dataframe:"
      ]
    },
    {
      "cell_type": "code",
      "execution_count": 14,
      "metadata": {
        "id": "YmlGeh0vZwT3"
      },
      "outputs": [],
      "source": [
        "dataset['ds'] = dates\n",
        "dataset['y']  = d "
      ]
    },
    {
      "cell_type": "markdown",
      "metadata": {
        "id": "DL28wJNJZwT3"
      },
      "source": [
        "We will need to have only 1 data column, y, with the index being ds"
      ]
    },
    {
      "cell_type": "code",
      "execution_count": 15,
      "metadata": {
        "id": "wzr3oz19ZwT3"
      },
      "outputs": [],
      "source": [
        "dataset = dataset.set_index('ds')"
      ]
    },
    {
      "cell_type": "markdown",
      "metadata": {
        "id": "XRlC41S2ZwT4"
      },
      "source": [
        "Let's plot the daily number of deaths\n"
      ]
    },
    {
      "cell_type": "code",
      "execution_count": 17,
      "metadata": {
        "colab": {
          "base_uri": "https://localhost:8080/",
          "height": 610
        },
        "id": "RXDnnYqeZwT4",
        "outputId": "36310895-b7e5-40cd-ddef-317bb6b4d32b"
      },
      "outputs": [
        {
          "output_type": "execute_result",
          "data": {
            "text/plain": [
              "[<matplotlib.lines.Line2D at 0x7f9703c4ead0>]"
            ]
          },
          "metadata": {},
          "execution_count": 17
        },
        {
          "output_type": "display_data",
          "data": {
            "text/plain": [
              "<Figure size 720x720 with 1 Axes>"
            ],
            "image/png": "[encoded data removed]"
          },
          "metadata": {
            "needs_background": "light"
          }
        }
      ],
      "source": [
        "plt.figure(figsize=(10,10))\n",
        "plt.plot(dataset)"
      ]
    },
    {
      "cell_type": "markdown",
      "metadata": {
        "id": "UlEZLu50ZwT4"
      },
      "source": [
        "and let's see how the daily increase looks like. To do this, we will use the `diff` method from the Dataframe object."
      ]
    },
    {
      "cell_type": "code",
      "execution_count": 18,
      "metadata": {
        "colab": {
          "base_uri": "https://localhost:8080/",
          "height": 610
        },
        "id": "Nci0j7YvZwT4",
        "outputId": "24826d9b-3128-4253-aa0d-6b472f763d43"
      },
      "outputs": [
        {
          "output_type": "execute_result",
          "data": {
            "text/plain": [
              "[<matplotlib.lines.Line2D at 0x7f97036cb850>]"
            ]
          },
          "metadata": {},
          "execution_count": 18
        },
        {
          "output_type": "display_data",
          "data": {
            "text/plain": [
              "<Figure size 720x720 with 1 Axes>"
            ],
            "image/png": "[encoded data removed]"
          },
          "metadata": {
            "needs_background": "light"
          }
        }
      ],
      "source": [
        "plt.figure(figsize=(10,10))\n",
        "plt.plot(dataset.diff())"
      ]
    },
    {
      "cell_type": "markdown",
      "metadata": {
        "id": "eMFt_zwpZwT5"
      },
      "source": [
        "In this project, we are going to analyze the daily reported deaths"
      ]
    },
    {
      "cell_type": "code",
      "execution_count": 19,
      "metadata": {
        "id": "F5RlkhHbZwT5"
      },
      "outputs": [],
      "source": [
        "dataset = dataset.diff()"
      ]
    },
    {
      "cell_type": "markdown",
      "metadata": {
        "id": "N51RzUiBZwT5"
      },
      "source": [
        "We need to remove the first data point here, which will be a None value"
      ]
    },
    {
      "cell_type": "code",
      "execution_count": 20,
      "metadata": {
        "id": "7H2wHcrjZwT5"
      },
      "outputs": [],
      "source": [
        "dataset = dataset.loc['2020-01-23':'2020-08-13']"
      ]
    },
    {
      "cell_type": "markdown",
      "metadata": {
        "id": "14kQ72fNZwT5"
      },
      "source": [
        "# Task 2: Forcasting using SARIMAX, or Seasonal AutoRegressive Integrated Moving Average with eXogenous regressors model"
      ]
    },
    {
      "cell_type": "markdown",
      "metadata": {
        "id": "6aYp0tp1ZwT6"
      },
      "source": [
        "SARIMAX is one of the time series models in the python statistics library statsmodels."
      ]
    },
    {
      "cell_type": "markdown",
      "metadata": {
        "id": "AKnc-Iv1ZwT6"
      },
      "source": [
        "But before we apply the model, we will split our dataset into a training and test sets. We will do this by taking all dates prior to 31st of July as training set, on which the model will be optimized, and all dates from 31st July as the test set, on which we will test the accuracy of the predictions that the optimized model will make."
      ]
    },
    {
      "cell_type": "code",
      "execution_count": null,
      "metadata": {
        "id": "gGiAZ1V1ZwT6"
      },
      "outputs": [],
      "source": [
        ""
      ]
    },
    {
      "cell_type": "markdown",
      "metadata": {
        "id": "MF0WetmsZwT6"
      },
      "source": [
        "Now let's talk about SARIMAX. There are three hyperparameters that go into the order tuple: p, q and d. Here we've used p=2, q=1 and d=3."
      ]
    },
    {
      "cell_type": "code",
      "execution_count": null,
      "metadata": {
        "id": "_Gfs0RrHZwT7"
      },
      "outputs": [],
      "source": [
        ""
      ]
    },
    {
      "cell_type": "markdown",
      "metadata": {
        "id": "CmSIz3bKZwT7"
      },
      "source": [
        "Next, we call the fit method to optimize the model."
      ]
    },
    {
      "cell_type": "code",
      "execution_count": null,
      "metadata": {
        "id": "MFBwon8lZwT7"
      },
      "outputs": [],
      "source": [
        ""
      ]
    },
    {
      "cell_type": "markdown",
      "metadata": {
        "id": "l3jsB8bmZwT7"
      },
      "source": [
        "Now let's make predictions using the model, and compare those against the values in the test set."
      ]
    },
    {
      "cell_type": "code",
      "execution_count": null,
      "metadata": {
        "id": "IPbVlwc7ZwT8"
      },
      "outputs": [],
      "source": [
        ""
      ]
    },
    {
      "cell_type": "markdown",
      "metadata": {
        "id": "9938ZADiZwT8"
      },
      "source": [
        "Since that we are interested in comparing between the different time series analysis approaches, we are going to use one of the validation measures: mean absolute error."
      ]
    },
    {
      "cell_type": "code",
      "execution_count": null,
      "metadata": {
        "id": "DeQMYMYVZwT8"
      },
      "outputs": [],
      "source": [
        ""
      ]
    },
    {
      "cell_type": "markdown",
      "metadata": {
        "id": "A8b1xq03ZwT8"
      },
      "source": [
        "However, in a typical machine learning workflow, we should find the best values of p, q and r that will minimize the error. We can use the auto_arima function in the pmdarima module to do that. This will find the optimal parameter combintation and return the best model.\n"
      ]
    },
    {
      "cell_type": "code",
      "execution_count": null,
      "metadata": {
        "id": "oR_tWtNJZwT8"
      },
      "outputs": [],
      "source": [
        "model = pm.auto_arima(train, start_p=1, start_q=1,\n",
        "                      test='adf',       # use adftest to find optimal 'd'\n",
        "                      max_p=3, max_q=3,  # maximum p and q\n",
        "                      m=1,              # frequency of series\n",
        "                      d=None,           # let model determine 'd'\n",
        "                      seasonal=False,   # No Seasonality\n",
        "                      start_P=0,\n",
        "                      D=0,\n",
        "                      trace=True,\n",
        "                      error_action='ignore',\n",
        "                      suppress_warnings=True,\n",
        "                      stepwise=True)\n",
        "\n",
        "print(model.summary())"
      ]
    },
    {
      "cell_type": "markdown",
      "metadata": {
        "id": "-IvcT976ZwT9"
      },
      "source": [
        "Note that this gives us the best mode here: \"Best model:  SARIMAX(2,2,3)(0,0,0)[0]\""
      ]
    },
    {
      "cell_type": "markdown",
      "metadata": {
        "id": "Q24domKrZwT9"
      },
      "source": [
        "# Task 3: Forcasting using Facebook's Prophet model"
      ]
    },
    {
      "cell_type": "markdown",
      "metadata": {
        "id": "mVZSo5FrZwT9"
      },
      "source": [
        "This is the open source time series library released by Facebook. It is also widely used by Facebook in their own time series analysis tasks. Facebook prophet does not require that you specify or search for hyperparameters. The model can act as a black box that does all the required computations on its own. And it works with the same object-fit-predict API.\n",
        "\n",
        "Prophet expects the data frame to have 2 columns, unlike SARIMAX."
      ]
    },
    {
      "cell_type": "code",
      "execution_count": null,
      "metadata": {
        "id": "D8ce7hUjZwT-"
      },
      "outputs": [],
      "source": [
        ""
      ]
    },
    {
      "cell_type": "markdown",
      "metadata": {
        "id": "Um2ChZhhZwT-"
      },
      "source": [
        "Then we create a new Prophet object and call the `fit()` method"
      ]
    },
    {
      "cell_type": "code",
      "execution_count": null,
      "metadata": {
        "id": "_T8mePsfZwT-"
      },
      "outputs": [],
      "source": [
        ""
      ]
    },
    {
      "cell_type": "markdown",
      "metadata": {
        "id": "Q4_42QcPZwT-"
      },
      "source": [
        "Now let's forecast:"
      ]
    },
    {
      "cell_type": "code",
      "execution_count": null,
      "metadata": {
        "id": "mTDwnZbtZwT-"
      },
      "outputs": [],
      "source": [
        ""
      ]
    },
    {
      "cell_type": "markdown",
      "metadata": {
        "id": "ry5BpOoOZwT-"
      },
      "source": [
        "Now let us calculate the mean absolute error for our predictions."
      ]
    },
    {
      "cell_type": "code",
      "execution_count": null,
      "metadata": {
        "id": "nEMOBwgNZwT_"
      },
      "outputs": [],
      "source": [
        ""
      ]
    },
    {
      "cell_type": "markdown",
      "metadata": {
        "id": "tpHWpoimZwT_"
      },
      "source": [
        "Next, let's visualize the predictions."
      ]
    },
    {
      "cell_type": "code",
      "execution_count": null,
      "metadata": {
        "id": "sNWVK98iZwT_"
      },
      "outputs": [],
      "source": [
        ""
      ]
    },
    {
      "cell_type": "markdown",
      "metadata": {
        "id": "Thf57GMcZwT_"
      },
      "source": [
        "# Task 4: Preparing the dataset for XGBOOST and NN"
      ]
    },
    {
      "cell_type": "markdown",
      "metadata": {
        "id": "SZVvAS9sZwT_"
      },
      "source": [
        "Unlike the prophet and SAIMAX models, the two models we will train in Task 6, namely XGBOOST and NN, are supervised machine learning models that deal with independent data points, or examples. It assumes that each data point is totally independent from the rest of the data points in the dataset.\n",
        "\n",
        "Here is a method that extracts these features from a given dataframe object."
      ]
    },
    {
      "cell_type": "code",
      "execution_count": null,
      "metadata": {
        "id": "1Mq6YbyvZwUA"
      },
      "outputs": [],
      "source": [
        ""
      ]
    },
    {
      "cell_type": "markdown",
      "metadata": {
        "id": "kQiavpg5ZwUA"
      },
      "source": [
        "# Task 5: Create training and test datasets by splitting the dataset, and perform data normalization."
      ]
    },
    {
      "cell_type": "markdown",
      "metadata": {
        "id": "61BkAt-rZwUA"
      },
      "source": [
        "In this task we are going to cover two topics in data preparation: splitting the dataset into training and test data, and normalizing the data.\n",
        "\n",
        "You might have already performed a splitting operation of a dataset in machine learning, where one takes a randomly selected portion of the dataset, say 20%, as a test set, while the remaining 80% is the training set. It is randomly selected because the whole dataset is randomly shufflled before the selection. Another popular approach is the k-fold cross validation.\n",
        "\n",
        "However, those two methods won't work with time series data. The reason is: when we train the model on the training set, the purpose is to predict the target values in the future, which corresponds to date values that are outside of the date values in the training set."
      ]
    },
    {
      "cell_type": "code",
      "execution_count": null,
      "metadata": {
        "id": "c1B0RWHfZwUA"
      },
      "outputs": [],
      "source": [
        ""
      ]
    },
    {
      "cell_type": "markdown",
      "metadata": {
        "id": "iGsPcDDfZwUA"
      },
      "source": [
        "Now let's discuss data normalization. We perform data normalization so as to make the range of values of the features, or the columns in the X_train table, as close as possible. For example, we have the features dayofweek and dayofyear. The range of values of dayofweek is from 1 to 7, whereas dayofyear is from 1 to 365. Having such large differences in the ranges of values will either slow down the training of the machine learning model or make it quite difficult. We solve this problem by applying normalization. There are several ways we can normalize the data with. Here I will choose the StandardScaler, which applies the following equation on each of the columns.\n",
        "\n",
        "z = (x - u) / s\n",
        "\n",
        "Here x is the column before scaling, u is thee mean and s is the standard deviation. So basically, we subtract the mean of each column from itself, then divide by the standard deviation of that column. To apply StandardScaler, we first fit the scaler object to the dataset:\n"
      ]
    },
    {
      "cell_type": "code",
      "execution_count": null,
      "metadata": {
        "id": "CSYUG7QVZwUA"
      },
      "outputs": [],
      "source": [
        ""
      ]
    },
    {
      "cell_type": "markdown",
      "metadata": {
        "id": "f3mtCABmZwUB"
      },
      "source": [
        "Apply the scaling to both the training and test sets, as follows."
      ]
    },
    {
      "cell_type": "code",
      "execution_count": null,
      "metadata": {
        "id": "H5fDqEATZwUB"
      },
      "outputs": [],
      "source": [
        ""
      ]
    },
    {
      "cell_type": "markdown",
      "metadata": {
        "id": "GDqo8KVvZwUB"
      },
      "source": [
        "# Task 6: Train the XGBOOST and NN models"
      ]
    },
    {
      "cell_type": "markdown",
      "metadata": {
        "id": "trRm5Ah6ZwUB"
      },
      "source": [
        "First, create the XGBRegressor object which will represent the XGBOOST regression model."
      ]
    },
    {
      "cell_type": "code",
      "execution_count": null,
      "metadata": {
        "id": "y9z51969ZwUB"
      },
      "outputs": [],
      "source": [
        ""
      ]
    },
    {
      "cell_type": "markdown",
      "metadata": {
        "id": "CEKe8yQFZwUB"
      },
      "source": [
        "Next, train the XGBOOST regression model using the fit method, and perform prediction using the predict method."
      ]
    },
    {
      "cell_type": "code",
      "execution_count": null,
      "metadata": {
        "id": "161D8LroZwUC"
      },
      "outputs": [],
      "source": [
        ""
      ]
    },
    {
      "cell_type": "markdown",
      "metadata": {
        "id": "8slksIXEZwUC"
      },
      "source": [
        "Let us calculate the mean absolute error for the training."
      ]
    },
    {
      "cell_type": "code",
      "execution_count": null,
      "metadata": {
        "id": "R2PyvohTZwUC"
      },
      "outputs": [],
      "source": [
        ""
      ]
    },
    {
      "cell_type": "markdown",
      "metadata": {
        "id": "onv-gSpnZwUC"
      },
      "source": [
        "Creation and training of the feedforward neural network model."
      ]
    },
    {
      "cell_type": "code",
      "execution_count": null,
      "metadata": {
        "id": "QgwiWK1AZwUC"
      },
      "outputs": [],
      "source": [
        ""
      ]
    },
    {
      "cell_type": "markdown",
      "metadata": {
        "id": "_hgfwNeZZwUC"
      },
      "source": [
        "Let's compare the MAE values."
      ]
    },
    {
      "cell_type": "code",
      "execution_count": null,
      "metadata": {
        "id": "XiF00alpZwUC"
      },
      "outputs": [],
      "source": [
        ""
      ]
    },
    {
      "cell_type": "markdown",
      "metadata": {
        "id": "RyaGM-JrZwUD"
      },
      "source": [
        "Finally let us visualize the predictions of all 4 models. Note the autofmt_xdate method in matplotlib, it knows how to appropriately rotate the date labels on the x-axis."
      ]
    },
    {
      "cell_type": "code",
      "execution_count": null,
      "metadata": {
        "id": "R1X_CdzcZwUD"
      },
      "outputs": [],
      "source": [
        "\n",
        "XGBOOST_df = pd.DataFrame({'y': XGBOOST_prediction.tolist()})\n",
        "XGBOOST_df.index = y_test.index\n",
        "\n",
        "NN_df = pd.DataFrame(NN_prediction)\n",
        "NN_df.index = y_test.index\n",
        "plt.figure(figsize=(20, 20))\n",
        "fig, axs = plt.subplots(2, 2)\n",
        "fig.suptitle('Compare SARIMAX, prophet, XGBOOST and NN')\n",
        "axs[0, 0].plot(dataset.tail(50))\n",
        "axs[0, 0].plot(sarimax_prediction.tail(50))\n",
        "axs[0, 0].set_title(\"SARIMAX\")\n",
        "axs[0, 1].plot(dataset.tail(50))\n",
        "axs[0, 1].plot(prophet_future.tail(50))\n",
        "axs[0, 1].set_title(\"Prophet\")\n",
        "axs[1, 0].plot(dataset.tail(50))\n",
        "axs[1, 0].plot(XGBOOST_df.tail(50))\n",
        "axs[1, 0].set_title(\"XGBOOST\")\n",
        "axs[1, 1].plot(dataset.tail(50))\n",
        "axs[1, 1].plot(NN_df.tail(50))\n",
        "axs[1, 1].set_title(\"NN\")\n",
        "\n",
        "for ax in fig.get_axes():\n",
        "    ax.label_outer()\n",
        "fig.autofmt_xdate()\n",
        "\n",
        "plt.savefig('Comparison',\n",
        "            bbox_inches='tight', transparent=False)"
      ]
    }
  ],
  "metadata": {
    "kernelspec": {
      "display_name": "Python 3",
      "language": "python",
      "name": "python3"
    },
    "language_info": {
      "codemirror_mode": {
        "name": "ipython",
        "version": 3
      },
      "file_extension": ".py",
      "mimetype": "text/x-python",
      "name": "python",
      "nbconvert_exporter": "python",
      "pygments_lexer": "ipython3",
      "version": "3.6.9"
    },
    "colab": {
      "name": "TimeSeriesCOVID19.ipynb",
      "provenance": [],
      "machine_shape": "hm",
      "include_colab_link": true
    },
    "accelerator": "GPU"
  },
  "nbformat": 4,
  "nbformat_minor": 0
}
