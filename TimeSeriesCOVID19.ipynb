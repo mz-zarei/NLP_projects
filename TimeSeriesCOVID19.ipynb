{
  "cells": [
    {
      "cell_type": "markdown",
      "metadata": {
        "id": "view-in-github",
        "colab_type": "text"
      },
      "source": [
        "<a href=\"https://colab.research.google.com/github/mz-zarei/SequentialModels_projects/blob/main/TimeSeriesCOVID19.ipynb\" target=\"_parent\"><img src=\"https://colab.research.google.com/assets/colab-badge.svg\" alt=\"Open In Colab\"/></a>"
      ]
    },
    {
      "cell_type": "markdown",
      "metadata": {
        "id": "Q9GCWr5RZwTm"
      },
      "source": [
        "# Comparing time series predictions of COVID-19 deaths"
      ]
    },
    {
      "cell_type": "markdown",
      "metadata": {
        "id": "ZyBkw2uMZwTs"
      },
      "source": [
        "\n",
        "![Comparison](Comparison.png)"
      ]
    },
    {
      "cell_type": "code",
      "execution_count": 2,
      "metadata": {
        "colab": {
          "base_uri": "https://localhost:8080/"
        },
        "id": "FUP7gKfWZwTt",
        "outputId": "351740f4-d2c2-47c2-ea7c-ee36bb7d16d9"
      },
      "outputs": [
        {
          "output_type": "stream",
          "name": "stdout",
          "text": [
            "Collecting pmdarima\n",
            "  Downloading pmdarima-1.8.5-cp37-cp37m-manylinux_2_17_x86_64.manylinux2014_x86_64.manylinux_2_24_x86_64.whl (1.4 MB)\n",
            "\u001b[?25l\r\u001b[K     |▎                               | 10 kB 36.0 MB/s eta 0:00:01\r\u001b[K     |▌                               | 20 kB 29.9 MB/s eta 0:00:01\r\u001b[K     |▊                               | 30 kB 19.1 MB/s eta 0:00:01\r\u001b[K     |█                               | 40 kB 16.8 MB/s eta 0:00:01\r\u001b[K     |█▏                              | 51 kB 12.6 MB/s eta 0:00:01\r\u001b[K     |█▍                              | 61 kB 14.7 MB/s eta 0:00:01\r\u001b[K     |█▋                              | 71 kB 15.4 MB/s eta 0:00:01\r\u001b[K     |██                              | 81 kB 15.5 MB/s eta 0:00:01\r\u001b[K     |██▏                             | 92 kB 17.0 MB/s eta 0:00:01\r\u001b[K     |██▍                             | 102 kB 13.8 MB/s eta 0:00:01\r\u001b[K     |██▋                             | 112 kB 13.8 MB/s eta 0:00:01\r\u001b[K     |██▉                             | 122 kB 13.8 MB/s eta 0:00:01\r\u001b[K     |███                             | 133 kB 13.8 MB/s eta 0:00:01\r\u001b[K     |███▎                            | 143 kB 13.8 MB/s eta 0:00:01\r\u001b[K     |███▌                            | 153 kB 13.8 MB/s eta 0:00:01\r\u001b[K     |███▉                            | 163 kB 13.8 MB/s eta 0:00:01\r\u001b[K     |████                            | 174 kB 13.8 MB/s eta 0:00:01\r\u001b[K     |████▎                           | 184 kB 13.8 MB/s eta 0:00:01\r\u001b[K     |████▌                           | 194 kB 13.8 MB/s eta 0:00:01\r\u001b[K     |████▊                           | 204 kB 13.8 MB/s eta 0:00:01\r\u001b[K     |█████                           | 215 kB 13.8 MB/s eta 0:00:01\r\u001b[K     |█████▏                          | 225 kB 13.8 MB/s eta 0:00:01\r\u001b[K     |█████▍                          | 235 kB 13.8 MB/s eta 0:00:01\r\u001b[K     |█████▊                          | 245 kB 13.8 MB/s eta 0:00:01\r\u001b[K     |██████                          | 256 kB 13.8 MB/s eta 0:00:01\r\u001b[K     |██████▏                         | 266 kB 13.8 MB/s eta 0:00:01\r\u001b[K     |██████▍                         | 276 kB 13.8 MB/s eta 0:00:01\r\u001b[K     |██████▋                         | 286 kB 13.8 MB/s eta 0:00:01\r\u001b[K     |██████▉                         | 296 kB 13.8 MB/s eta 0:00:01\r\u001b[K     |███████                         | 307 kB 13.8 MB/s eta 0:00:01\r\u001b[K     |███████▎                        | 317 kB 13.8 MB/s eta 0:00:01\r\u001b[K     |███████▋                        | 327 kB 13.8 MB/s eta 0:00:01\r\u001b[K     |███████▉                        | 337 kB 13.8 MB/s eta 0:00:01\r\u001b[K     |████████                        | 348 kB 13.8 MB/s eta 0:00:01\r\u001b[K     |████████▎                       | 358 kB 13.8 MB/s eta 0:00:01\r\u001b[K     |████████▌                       | 368 kB 13.8 MB/s eta 0:00:01\r\u001b[K     |████████▊                       | 378 kB 13.8 MB/s eta 0:00:01\r\u001b[K     |█████████                       | 389 kB 13.8 MB/s eta 0:00:01\r\u001b[K     |█████████▎                      | 399 kB 13.8 MB/s eta 0:00:01\r\u001b[K     |█████████▌                      | 409 kB 13.8 MB/s eta 0:00:01\r\u001b[K     |█████████▊                      | 419 kB 13.8 MB/s eta 0:00:01\r\u001b[K     |██████████                      | 430 kB 13.8 MB/s eta 0:00:01\r\u001b[K     |██████████▏                     | 440 kB 13.8 MB/s eta 0:00:01\r\u001b[K     |██████████▍                     | 450 kB 13.8 MB/s eta 0:00:01\r\u001b[K     |██████████▋                     | 460 kB 13.8 MB/s eta 0:00:01\r\u001b[K     |██████████▉                     | 471 kB 13.8 MB/s eta 0:00:01\r\u001b[K     |███████████▏                    | 481 kB 13.8 MB/s eta 0:00:01\r\u001b[K     |███████████▍                    | 491 kB 13.8 MB/s eta 0:00:01\r\u001b[K     |███████████▋                    | 501 kB 13.8 MB/s eta 0:00:01\r\u001b[K     |███████████▉                    | 512 kB 13.8 MB/s eta 0:00:01\r\u001b[K     |████████████                    | 522 kB 13.8 MB/s eta 0:00:01\r\u001b[K     |████████████▎                   | 532 kB 13.8 MB/s eta 0:00:01\r\u001b[K     |████████████▌                   | 542 kB 13.8 MB/s eta 0:00:01\r\u001b[K     |████████████▊                   | 552 kB 13.8 MB/s eta 0:00:01\r\u001b[K     |█████████████                   | 563 kB 13.8 MB/s eta 0:00:01\r\u001b[K     |█████████████▎                  | 573 kB 13.8 MB/s eta 0:00:01\r\u001b[K     |█████████████▌                  | 583 kB 13.8 MB/s eta 0:00:01\r\u001b[K     |█████████████▊                  | 593 kB 13.8 MB/s eta 0:00:01\r\u001b[K     |██████████████                  | 604 kB 13.8 MB/s eta 0:00:01\r\u001b[K     |██████████████▏                 | 614 kB 13.8 MB/s eta 0:00:01\r\u001b[K     |██████████████▍                 | 624 kB 13.8 MB/s eta 0:00:01\r\u001b[K     |██████████████▋                 | 634 kB 13.8 MB/s eta 0:00:01\r\u001b[K     |███████████████                 | 645 kB 13.8 MB/s eta 0:00:01\r\u001b[K     |███████████████▏                | 655 kB 13.8 MB/s eta 0:00:01\r\u001b[K     |███████████████▍                | 665 kB 13.8 MB/s eta 0:00:01\r\u001b[K     |███████████████▋                | 675 kB 13.8 MB/s eta 0:00:01\r\u001b[K     |███████████████▉                | 686 kB 13.8 MB/s eta 0:00:01\r\u001b[K     |████████████████                | 696 kB 13.8 MB/s eta 0:00:01\r\u001b[K     |████████████████▎               | 706 kB 13.8 MB/s eta 0:00:01\r\u001b[K     |████████████████▋               | 716 kB 13.8 MB/s eta 0:00:01\r\u001b[K     |████████████████▉               | 727 kB 13.8 MB/s eta 0:00:01\r\u001b[K     |█████████████████               | 737 kB 13.8 MB/s eta 0:00:01\r\u001b[K     |█████████████████▎              | 747 kB 13.8 MB/s eta 0:00:01\r\u001b[K     |█████████████████▌              | 757 kB 13.8 MB/s eta 0:00:01\r\u001b[K     |█████████████████▊              | 768 kB 13.8 MB/s eta 0:00:01\r\u001b[K     |██████████████████              | 778 kB 13.8 MB/s eta 0:00:01\r\u001b[K     |██████████████████▏             | 788 kB 13.8 MB/s eta 0:00:01\r\u001b[K     |██████████████████▌             | 798 kB 13.8 MB/s eta 0:00:01\r\u001b[K     |██████████████████▊             | 808 kB 13.8 MB/s eta 0:00:01\r\u001b[K     |███████████████████             | 819 kB 13.8 MB/s eta 0:00:01\r\u001b[K     |███████████████████▏            | 829 kB 13.8 MB/s eta 0:00:01\r\u001b[K     |███████████████████▍            | 839 kB 13.8 MB/s eta 0:00:01\r\u001b[K     |███████████████████▋            | 849 kB 13.8 MB/s eta 0:00:01\r\u001b[K     |███████████████████▉            | 860 kB 13.8 MB/s eta 0:00:01\r\u001b[K     |████████████████████            | 870 kB 13.8 MB/s eta 0:00:01\r\u001b[K     |████████████████████▍           | 880 kB 13.8 MB/s eta 0:00:01\r\u001b[K     |████████████████████▋           | 890 kB 13.8 MB/s eta 0:00:01\r\u001b[K     |████████████████████▉           | 901 kB 13.8 MB/s eta 0:00:01\r\u001b[K     |█████████████████████           | 911 kB 13.8 MB/s eta 0:00:01\r\u001b[K     |█████████████████████▎          | 921 kB 13.8 MB/s eta 0:00:01\r\u001b[K     |█████████████████████▌          | 931 kB 13.8 MB/s eta 0:00:01\r\u001b[K     |█████████████████████▊          | 942 kB 13.8 MB/s eta 0:00:01\r\u001b[K     |██████████████████████          | 952 kB 13.8 MB/s eta 0:00:01\r\u001b[K     |██████████████████████▎         | 962 kB 13.8 MB/s eta 0:00:01\r\u001b[K     |██████████████████████▌         | 972 kB 13.8 MB/s eta 0:00:01\r\u001b[K     |██████████████████████▊         | 983 kB 13.8 MB/s eta 0:00:01\r\u001b[K     |███████████████████████         | 993 kB 13.8 MB/s eta 0:00:01\r\u001b[K     |███████████████████████▏        | 1.0 MB 13.8 MB/s eta 0:00:01\r\u001b[K     |███████████████████████▍        | 1.0 MB 13.8 MB/s eta 0:00:01\r\u001b[K     |███████████████████████▋        | 1.0 MB 13.8 MB/s eta 0:00:01\r\u001b[K     |████████████████████████        | 1.0 MB 13.8 MB/s eta 0:00:01\r\u001b[K     |████████████████████████▏       | 1.0 MB 13.8 MB/s eta 0:00:01\r\u001b[K     |████████████████████████▍       | 1.1 MB 13.8 MB/s eta 0:00:01\r\u001b[K     |████████████████████████▋       | 1.1 MB 13.8 MB/s eta 0:00:01\r\u001b[K     |████████████████████████▉       | 1.1 MB 13.8 MB/s eta 0:00:01\r\u001b[K     |█████████████████████████       | 1.1 MB 13.8 MB/s eta 0:00:01\r\u001b[K     |█████████████████████████▎      | 1.1 MB 13.8 MB/s eta 0:00:01\r\u001b[K     |█████████████████████████▌      | 1.1 MB 13.8 MB/s eta 0:00:01\r\u001b[K     |█████████████████████████▉      | 1.1 MB 13.8 MB/s eta 0:00:01\r\u001b[K     |██████████████████████████      | 1.1 MB 13.8 MB/s eta 0:00:01\r\u001b[K     |██████████████████████████▎     | 1.1 MB 13.8 MB/s eta 0:00:01\r\u001b[K     |██████████████████████████▌     | 1.1 MB 13.8 MB/s eta 0:00:01\r\u001b[K     |██████████████████████████▊     | 1.2 MB 13.8 MB/s eta 0:00:01\r\u001b[K     |███████████████████████████     | 1.2 MB 13.8 MB/s eta 0:00:01\r\u001b[K     |███████████████████████████▏    | 1.2 MB 13.8 MB/s eta 0:00:01\r\u001b[K     |███████████████████████████▍    | 1.2 MB 13.8 MB/s eta 0:00:01\r\u001b[K     |███████████████████████████▊    | 1.2 MB 13.8 MB/s eta 0:00:01\r\u001b[K     |████████████████████████████    | 1.2 MB 13.8 MB/s eta 0:00:01\r\u001b[K     |████████████████████████████▏   | 1.2 MB 13.8 MB/s eta 0:00:01\r\u001b[K     |████████████████████████████▍   | 1.2 MB 13.8 MB/s eta 0:00:01\r\u001b[K     |████████████████████████████▋   | 1.2 MB 13.8 MB/s eta 0:00:01\r\u001b[K     |████████████████████████████▉   | 1.2 MB 13.8 MB/s eta 0:00:01\r\u001b[K     |█████████████████████████████   | 1.3 MB 13.8 MB/s eta 0:00:01\r\u001b[K     |█████████████████████████████▎  | 1.3 MB 13.8 MB/s eta 0:00:01\r\u001b[K     |█████████████████████████████▋  | 1.3 MB 13.8 MB/s eta 0:00:01\r\u001b[K     |█████████████████████████████▉  | 1.3 MB 13.8 MB/s eta 0:00:01\r\u001b[K     |██████████████████████████████  | 1.3 MB 13.8 MB/s eta 0:00:01\r\u001b[K     |██████████████████████████████▎ | 1.3 MB 13.8 MB/s eta 0:00:01\r\u001b[K     |██████████████████████████████▌ | 1.3 MB 13.8 MB/s eta 0:00:01\r\u001b[K     |██████████████████████████████▊ | 1.3 MB 13.8 MB/s eta 0:00:01\r\u001b[K     |███████████████████████████████ | 1.3 MB 13.8 MB/s eta 0:00:01\r\u001b[K     |███████████████████████████████▎| 1.4 MB 13.8 MB/s eta 0:00:01\r\u001b[K     |███████████████████████████████▌| 1.4 MB 13.8 MB/s eta 0:00:01\r\u001b[K     |███████████████████████████████▊| 1.4 MB 13.8 MB/s eta 0:00:01\r\u001b[K     |████████████████████████████████| 1.4 MB 13.8 MB/s eta 0:00:01\r\u001b[K     |████████████████████████████████| 1.4 MB 13.8 MB/s \n",
            "\u001b[?25hRequirement already satisfied: pandas>=0.19 in /usr/local/lib/python3.7/dist-packages (from pmdarima) (1.3.5)\n",
            "Collecting statsmodels!=0.12.0,>=0.11\n",
            "  Downloading statsmodels-0.13.2-cp37-cp37m-manylinux_2_17_x86_64.manylinux2014_x86_64.whl (9.8 MB)\n",
            "\u001b[K     |████████████████████████████████| 9.8 MB 93.4 MB/s \n",
            "\u001b[?25hRequirement already satisfied: urllib3 in /usr/local/lib/python3.7/dist-packages (from pmdarima) (1.24.3)\n",
            "Requirement already satisfied: numpy>=1.19.3 in /usr/local/lib/python3.7/dist-packages (from pmdarima) (1.21.6)\n",
            "Requirement already satisfied: scikit-learn>=0.22 in /usr/local/lib/python3.7/dist-packages (from pmdarima) (1.0.2)\n",
            "Requirement already satisfied: Cython!=0.29.18,>=0.29 in /usr/local/lib/python3.7/dist-packages (from pmdarima) (0.29.28)\n",
            "Requirement already satisfied: scipy>=1.3.2 in /usr/local/lib/python3.7/dist-packages (from pmdarima) (1.4.1)\n",
            "Requirement already satisfied: joblib>=0.11 in /usr/local/lib/python3.7/dist-packages (from pmdarima) (1.1.0)\n",
            "Requirement already satisfied: setuptools!=50.0.0,>=38.6.0 in /usr/local/lib/python3.7/dist-packages (from pmdarima) (57.4.0)\n",
            "Requirement already satisfied: python-dateutil>=2.7.3 in /usr/local/lib/python3.7/dist-packages (from pandas>=0.19->pmdarima) (2.8.2)\n",
            "Requirement already satisfied: pytz>=2017.3 in /usr/local/lib/python3.7/dist-packages (from pandas>=0.19->pmdarima) (2022.1)\n",
            "Requirement already satisfied: six>=1.5 in /usr/local/lib/python3.7/dist-packages (from python-dateutil>=2.7.3->pandas>=0.19->pmdarima) (1.15.0)\n",
            "Requirement already satisfied: threadpoolctl>=2.0.0 in /usr/local/lib/python3.7/dist-packages (from scikit-learn>=0.22->pmdarima) (3.1.0)\n",
            "Requirement already satisfied: patsy>=0.5.2 in /usr/local/lib/python3.7/dist-packages (from statsmodels!=0.12.0,>=0.11->pmdarima) (0.5.2)\n",
            "Requirement already satisfied: packaging>=21.3 in /usr/local/lib/python3.7/dist-packages (from statsmodels!=0.12.0,>=0.11->pmdarima) (21.3)\n",
            "Requirement already satisfied: pyparsing!=3.0.5,>=2.0.2 in /usr/local/lib/python3.7/dist-packages (from packaging>=21.3->statsmodels!=0.12.0,>=0.11->pmdarima) (3.0.8)\n",
            "Installing collected packages: statsmodels, pmdarima\n",
            "  Attempting uninstall: statsmodels\n",
            "    Found existing installation: statsmodels 0.10.2\n",
            "    Uninstalling statsmodels-0.10.2:\n",
            "      Successfully uninstalled statsmodels-0.10.2\n",
            "Successfully installed pmdarima-1.8.5 statsmodels-0.13.2\n"
          ]
        }
      ],
      "source": [
        "!pip install pmdarima\n",
        "import pmdarima as pm\n",
        "from statsmodels.tsa.seasonal import seasonal_decompose\n",
        "from sklearn.model_selection import TimeSeriesSplit\n",
        "import pandas as pd\n",
        "import numpy as np\n",
        "import datetime\n",
        "import requests\n",
        "import warnings\n",
        "\n",
        "import matplotlib.pyplot as plt\n",
        "import matplotlib\n",
        "import matplotlib.dates as mdates\n",
        "\n",
        "from xgboost import XGBRegressor\n",
        "from sklearn.ensemble import RandomForestRegressor\n",
        "from sklearn.metrics import mean_squared_error, mean_absolute_error\n",
        "from sklearn.preprocessing import OrdinalEncoder\n",
        "from sklearn.svm import SVR\n",
        "from sklearn.model_selection import train_test_split\n",
        "from statsmodels.tsa.statespace.sarimax import SARIMAX\n",
        "from statsmodels.tsa.arima_model import ARIMA\n",
        "from sklearn.preprocessing import StandardScaler\n",
        "from fbprophet import Prophet\n",
        "from fbprophet.plot import plot_plotly, add_changepoints_to_plot\n",
        "from keras.models import Sequential\n",
        "from keras.layers import Dense\n",
        "\n",
        "from tensorflow.keras.optimizers import Adam\n",
        "\n",
        "warnings.filterwarnings('ignore')\n"
      ]
    },
    {
      "cell_type": "markdown",
      "metadata": {
        "id": "1feRKIgTZwTv"
      },
      "source": [
        "# Task 1: Open the data and prepare the dataset data frame"
      ]
    },
    {
      "cell_type": "code",
      "execution_count": 3,
      "metadata": {
        "id": "akrI_Wn_ZwTw"
      },
      "outputs": [],
      "source": [
        "deaths_df = pd.read_csv('time_series_covid19_deaths_global.csv')"
      ]
    },
    {
      "cell_type": "markdown",
      "metadata": {
        "id": "LPTnuHlAZwTx"
      },
      "source": [
        "First, get the data for the daily deaths in all countries in the report"
      ]
    },
    {
      "cell_type": "code",
      "execution_count": 4,
      "metadata": {
        "colab": {
          "base_uri": "https://localhost:8080/",
          "height": 299
        },
        "id": "wsnNfiolZwTx",
        "outputId": "58c1f510-9b4d-4288-80a3-8d76dbd7c64a"
      },
      "outputs": [
        {
          "output_type": "execute_result",
          "data": {
            "text/plain": [
              "     1/22/20  1/23/20  1/24/20  1/25/20  1/26/20  1/27/20  1/28/20  1/29/20  \\\n",
              "261        0        0        0        0        0        0        0        0   \n",
              "262        0        0        0        0        0        0        0        0   \n",
              "263        0        0        0        0        0        0        0        0   \n",
              "264        0        0        0        0        0        0        0        0   \n",
              "265        0        0        0        0        0        0        0        0   \n",
              "\n",
              "     1/30/20  1/31/20  ...  8/7/20  8/8/20  8/9/20  8/10/20  8/11/20  8/12/20  \\\n",
              "261        0        0  ...      94      96      97      100      104      105   \n",
              "262        0        0  ...       1       1       1        1        1        1   \n",
              "263        0        0  ...     512     512     515      518      523      528   \n",
              "264        0        0  ...     200     203     235      241      241      246   \n",
              "265        0        0  ...     102     102     104      104      104      122   \n",
              "\n",
              "     8/13/20  8/14/20  8/15/20  8/16/20  \n",
              "261      106      106      108      110  \n",
              "262        1        1        1        1  \n",
              "263      528      528      528      530  \n",
              "264      246      256      260      260  \n",
              "265      128      128      130      132  \n",
              "\n",
              "[5 rows x 208 columns]"
            ],
            "text/html": [
              "\n",
              "  <div id=\"df-f7a686ae-799f-4404-bf7f-368750bdeccb\">\n",
              "    <div class=\"colab-df-container\">\n",
              "      <div>\n",
              "<style scoped>\n",
              "    .dataframe tbody tr th:only-of-type {\n",
              "        vertical-align: middle;\n",
              "    }\n",
              "\n",
              "    .dataframe tbody tr th {\n",
              "        vertical-align: top;\n",
              "    }\n",
              "\n",
              "    .dataframe thead th {\n",
              "        text-align: right;\n",
              "    }\n",
              "</style>\n",
              "<table border=\"1\" class=\"dataframe\">\n",
              "  <thead>\n",
              "    <tr style=\"text-align: right;\">\n",
              "      <th></th>\n",
              "      <th>1/22/20</th>\n",
              "      <th>1/23/20</th>\n",
              "      <th>1/24/20</th>\n",
              "      <th>1/25/20</th>\n",
              "      <th>1/26/20</th>\n",
              "      <th>1/27/20</th>\n",
              "      <th>1/28/20</th>\n",
              "      <th>1/29/20</th>\n",
              "      <th>1/30/20</th>\n",
              "      <th>1/31/20</th>\n",
              "      <th>...</th>\n",
              "      <th>8/7/20</th>\n",
              "      <th>8/8/20</th>\n",
              "      <th>8/9/20</th>\n",
              "      <th>8/10/20</th>\n",
              "      <th>8/11/20</th>\n",
              "      <th>8/12/20</th>\n",
              "      <th>8/13/20</th>\n",
              "      <th>8/14/20</th>\n",
              "      <th>8/15/20</th>\n",
              "      <th>8/16/20</th>\n",
              "    </tr>\n",
              "  </thead>\n",
              "  <tbody>\n",
              "    <tr>\n",
              "      <th>261</th>\n",
              "      <td>0</td>\n",
              "      <td>0</td>\n",
              "      <td>0</td>\n",
              "      <td>0</td>\n",
              "      <td>0</td>\n",
              "      <td>0</td>\n",
              "      <td>0</td>\n",
              "      <td>0</td>\n",
              "      <td>0</td>\n",
              "      <td>0</td>\n",
              "      <td>...</td>\n",
              "      <td>94</td>\n",
              "      <td>96</td>\n",
              "      <td>97</td>\n",
              "      <td>100</td>\n",
              "      <td>104</td>\n",
              "      <td>105</td>\n",
              "      <td>106</td>\n",
              "      <td>106</td>\n",
              "      <td>108</td>\n",
              "      <td>110</td>\n",
              "    </tr>\n",
              "    <tr>\n",
              "      <th>262</th>\n",
              "      <td>0</td>\n",
              "      <td>0</td>\n",
              "      <td>0</td>\n",
              "      <td>0</td>\n",
              "      <td>0</td>\n",
              "      <td>0</td>\n",
              "      <td>0</td>\n",
              "      <td>0</td>\n",
              "      <td>0</td>\n",
              "      <td>0</td>\n",
              "      <td>...</td>\n",
              "      <td>1</td>\n",
              "      <td>1</td>\n",
              "      <td>1</td>\n",
              "      <td>1</td>\n",
              "      <td>1</td>\n",
              "      <td>1</td>\n",
              "      <td>1</td>\n",
              "      <td>1</td>\n",
              "      <td>1</td>\n",
              "      <td>1</td>\n",
              "    </tr>\n",
              "    <tr>\n",
              "      <th>263</th>\n",
              "      <td>0</td>\n",
              "      <td>0</td>\n",
              "      <td>0</td>\n",
              "      <td>0</td>\n",
              "      <td>0</td>\n",
              "      <td>0</td>\n",
              "      <td>0</td>\n",
              "      <td>0</td>\n",
              "      <td>0</td>\n",
              "      <td>0</td>\n",
              "      <td>...</td>\n",
              "      <td>512</td>\n",
              "      <td>512</td>\n",
              "      <td>515</td>\n",
              "      <td>518</td>\n",
              "      <td>523</td>\n",
              "      <td>528</td>\n",
              "      <td>528</td>\n",
              "      <td>528</td>\n",
              "      <td>528</td>\n",
              "      <td>530</td>\n",
              "    </tr>\n",
              "    <tr>\n",
              "      <th>264</th>\n",
              "      <td>0</td>\n",
              "      <td>0</td>\n",
              "      <td>0</td>\n",
              "      <td>0</td>\n",
              "      <td>0</td>\n",
              "      <td>0</td>\n",
              "      <td>0</td>\n",
              "      <td>0</td>\n",
              "      <td>0</td>\n",
              "      <td>0</td>\n",
              "      <td>...</td>\n",
              "      <td>200</td>\n",
              "      <td>203</td>\n",
              "      <td>235</td>\n",
              "      <td>241</td>\n",
              "      <td>241</td>\n",
              "      <td>246</td>\n",
              "      <td>246</td>\n",
              "      <td>256</td>\n",
              "      <td>260</td>\n",
              "      <td>260</td>\n",
              "    </tr>\n",
              "    <tr>\n",
              "      <th>265</th>\n",
              "      <td>0</td>\n",
              "      <td>0</td>\n",
              "      <td>0</td>\n",
              "      <td>0</td>\n",
              "      <td>0</td>\n",
              "      <td>0</td>\n",
              "      <td>0</td>\n",
              "      <td>0</td>\n",
              "      <td>0</td>\n",
              "      <td>0</td>\n",
              "      <td>...</td>\n",
              "      <td>102</td>\n",
              "      <td>102</td>\n",
              "      <td>104</td>\n",
              "      <td>104</td>\n",
              "      <td>104</td>\n",
              "      <td>122</td>\n",
              "      <td>128</td>\n",
              "      <td>128</td>\n",
              "      <td>130</td>\n",
              "      <td>132</td>\n",
              "    </tr>\n",
              "  </tbody>\n",
              "</table>\n",
              "<p>5 rows × 208 columns</p>\n",
              "</div>\n",
              "      <button class=\"colab-df-convert\" onclick=\"convertToInteractive('df-f7a686ae-799f-4404-bf7f-368750bdeccb')\"\n",
              "              title=\"Convert this dataframe to an interactive table.\"\n",
              "              style=\"display:none;\">\n",
              "        \n",
              "  <svg xmlns=\"http://www.w3.org/2000/svg\" height=\"24px\"viewBox=\"0 0 24 24\"\n",
              "       width=\"24px\">\n",
              "    <path d=\"M0 0h24v24H0V0z\" fill=\"none\"/>\n",
              "    <path d=\"M18.56 5.44l.94 2.06.94-2.06 2.06-.94-2.06-.94-.94-2.06-.94 2.06-2.06.94zm-11 1L8.5 8.5l.94-2.06 2.06-.94-2.06-.94L8.5 2.5l-.94 2.06-2.06.94zm10 10l.94 2.06.94-2.06 2.06-.94-2.06-.94-.94-2.06-.94 2.06-2.06.94z\"/><path d=\"M17.41 7.96l-1.37-1.37c-.4-.4-.92-.59-1.43-.59-.52 0-1.04.2-1.43.59L10.3 9.45l-7.72 7.72c-.78.78-.78 2.05 0 2.83L4 21.41c.39.39.9.59 1.41.59.51 0 1.02-.2 1.41-.59l7.78-7.78 2.81-2.81c.8-.78.8-2.07 0-2.86zM5.41 20L4 18.59l7.72-7.72 1.47 1.35L5.41 20z\"/>\n",
              "  </svg>\n",
              "      </button>\n",
              "      \n",
              "  <style>\n",
              "    .colab-df-container {\n",
              "      display:flex;\n",
              "      flex-wrap:wrap;\n",
              "      gap: 12px;\n",
              "    }\n",
              "\n",
              "    .colab-df-convert {\n",
              "      background-color: #E8F0FE;\n",
              "      border: none;\n",
              "      border-radius: 50%;\n",
              "      cursor: pointer;\n",
              "      display: none;\n",
              "      fill: #1967D2;\n",
              "      height: 32px;\n",
              "      padding: 0 0 0 0;\n",
              "      width: 32px;\n",
              "    }\n",
              "\n",
              "    .colab-df-convert:hover {\n",
              "      background-color: #E2EBFA;\n",
              "      box-shadow: 0px 1px 2px rgba(60, 64, 67, 0.3), 0px 1px 3px 1px rgba(60, 64, 67, 0.15);\n",
              "      fill: #174EA6;\n",
              "    }\n",
              "\n",
              "    [theme=dark] .colab-df-convert {\n",
              "      background-color: #3B4455;\n",
              "      fill: #D2E3FC;\n",
              "    }\n",
              "\n",
              "    [theme=dark] .colab-df-convert:hover {\n",
              "      background-color: #434B5C;\n",
              "      box-shadow: 0px 1px 3px 1px rgba(0, 0, 0, 0.15);\n",
              "      filter: drop-shadow(0px 1px 2px rgba(0, 0, 0, 0.3));\n",
              "      fill: #FFFFFF;\n",
              "    }\n",
              "  </style>\n",
              "\n",
              "      <script>\n",
              "        const buttonEl =\n",
              "          document.querySelector('#df-f7a686ae-799f-4404-bf7f-368750bdeccb button.colab-df-convert');\n",
              "        buttonEl.style.display =\n",
              "          google.colab.kernel.accessAllowed ? 'block' : 'none';\n",
              "\n",
              "        async function convertToInteractive(key) {\n",
              "          const element = document.querySelector('#df-f7a686ae-799f-4404-bf7f-368750bdeccb');\n",
              "          const dataTable =\n",
              "            await google.colab.kernel.invokeFunction('convertToInteractive',\n",
              "                                                     [key], {});\n",
              "          if (!dataTable) return;\n",
              "\n",
              "          const docLinkHtml = 'Like what you see? Visit the ' +\n",
              "            '<a target=\"_blank\" href=https://colab.research.google.com/notebooks/data_table.ipynb>data table notebook</a>'\n",
              "            + ' to learn more about interactive tables.';\n",
              "          element.innerHTML = '';\n",
              "          dataTable['output_type'] = 'display_data';\n",
              "          await google.colab.output.renderOutput(dataTable, element);\n",
              "          const docLink = document.createElement('div');\n",
              "          docLink.innerHTML = docLinkHtml;\n",
              "          element.appendChild(docLink);\n",
              "        }\n",
              "      </script>\n",
              "    </div>\n",
              "  </div>\n",
              "  "
            ]
          },
          "metadata": {},
          "execution_count": 4
        }
      ],
      "source": [
        "d = deaths_df.loc[:, '1/22/20':]\n",
        "d.tail()"
      ]
    },
    {
      "cell_type": "markdown",
      "metadata": {
        "id": "FSu2rfnKZwTy"
      },
      "source": [
        "Transpose the data frame"
      ]
    },
    {
      "cell_type": "code",
      "execution_count": 5,
      "metadata": {
        "id": "W509x-HiZwTz"
      },
      "outputs": [],
      "source": [
        "d = d.transpose()"
      ]
    },
    {
      "cell_type": "markdown",
      "metadata": {
        "id": "ATI5T9NAZwTz"
      },
      "source": [
        "Then sum row-wise"
      ]
    },
    {
      "cell_type": "code",
      "execution_count": 6,
      "metadata": {
        "id": "U3o2wxGBZwT0"
      },
      "outputs": [],
      "source": [
        "d = d.sum(axis=1)"
      ]
    },
    {
      "cell_type": "markdown",
      "metadata": {
        "id": "8yunJ5kFZwT0"
      },
      "source": [
        "We only need the numeric values here, so we convert `d` to a list"
      ]
    },
    {
      "cell_type": "code",
      "execution_count": 7,
      "metadata": {
        "id": "3oJWoNKwZwT1"
      },
      "outputs": [],
      "source": [
        "d = d.to_list()"
      ]
    },
    {
      "cell_type": "markdown",
      "metadata": {
        "id": "0CYigClZZwT1"
      },
      "source": [
        "Create a new data frame with two columns, which will be our dataset:"
      ]
    },
    {
      "cell_type": "code",
      "execution_count": 8,
      "metadata": {
        "id": "3fPCDtQ-ZwT1"
      },
      "outputs": [],
      "source": [
        "dataset = pd.DataFrame(columns =['ds', 'y'])"
      ]
    },
    {
      "cell_type": "markdown",
      "metadata": {
        "id": "4BVAeuATZwT2"
      },
      "source": [
        "Get the dates from the columns in `deaths_df` data frame, starting from the fifth column. They will be obtained in string format."
      ]
    },
    {
      "cell_type": "code",
      "execution_count": 9,
      "metadata": {
        "id": "e-zdls6KZwT2"
      },
      "outputs": [],
      "source": [
        "dates = list(deaths_df.columns[4:])"
      ]
    },
    {
      "cell_type": "markdown",
      "metadata": {
        "id": "Uf2SX2aMZwT2"
      },
      "source": [
        "Convert the string dates into the datetime format, so that we can perform datetime operations on them"
      ]
    },
    {
      "cell_type": "code",
      "execution_count": 10,
      "metadata": {
        "id": "S21023a6ZwT2"
      },
      "outputs": [],
      "source": [
        "dates = list(pd.to_datetime(dates))"
      ]
    },
    {
      "cell_type": "markdown",
      "metadata": {
        "id": "BkYjMr3jZwT3"
      },
      "source": [
        "Now, assign the dates and deaths data to the columns in the new dataframe:"
      ]
    },
    {
      "cell_type": "code",
      "execution_count": 11,
      "metadata": {
        "id": "YmlGeh0vZwT3"
      },
      "outputs": [],
      "source": [
        "dataset['ds'] = dates\n",
        "dataset['y']  = d "
      ]
    },
    {
      "cell_type": "markdown",
      "metadata": {
        "id": "DL28wJNJZwT3"
      },
      "source": [
        "We will need to have only 1 data column, y, with the index being ds"
      ]
    },
    {
      "cell_type": "code",
      "execution_count": 12,
      "metadata": {
        "id": "wzr3oz19ZwT3"
      },
      "outputs": [],
      "source": [
        "dataset = dataset.set_index('ds')"
      ]
    },
    {
      "cell_type": "markdown",
      "metadata": {
        "id": "XRlC41S2ZwT4"
      },
      "source": [
        "Let's plot the daily number of deaths\n"
      ]
    },
    {
      "cell_type": "code",
      "execution_count": 13,
      "metadata": {
        "colab": {
          "base_uri": "https://localhost:8080/",
          "height": 610
        },
        "id": "RXDnnYqeZwT4",
        "outputId": "fd6fc29c-69fe-4aa7-a377-af64f5d37c80"
      },
      "outputs": [
        {
          "output_type": "execute_result",
          "data": {
            "text/plain": [
              "[<matplotlib.lines.Line2D at 0x7f0396ca4190>]"
            ]
          },
          "metadata": {},
          "execution_count": 13
        },
        {
          "output_type": "display_data",
          "data": {
            "text/plain": [
              "<Figure size 720x720 with 1 Axes>"
            ],
            "image/png": "[encoded data removed]"
          },
          "metadata": {
            "needs_background": "light"
          }
        }
      ],
      "source": [
        "plt.figure(figsize=(10,10))\n",
        "plt.plot(dataset)"
      ]
    },
    {
      "cell_type": "markdown",
      "metadata": {
        "id": "UlEZLu50ZwT4"
      },
      "source": [
        "and let's see how the daily increase looks like. To do this, we will use the `diff` method from the Dataframe object."
      ]
    },
    {
      "cell_type": "code",
      "execution_count": 14,
      "metadata": {
        "colab": {
          "base_uri": "https://localhost:8080/",
          "height": 610
        },
        "id": "Nci0j7YvZwT4",
        "outputId": "7e257c94-e92a-43bb-ca23-c59e375a2966"
      },
      "outputs": [
        {
          "output_type": "execute_result",
          "data": {
            "text/plain": [
              "[<matplotlib.lines.Line2D at 0x7f0396c27110>]"
            ]
          },
          "metadata": {},
          "execution_count": 14
        },
        {
          "output_type": "display_data",
          "data": {
            "text/plain": [
              "<Figure size 720x720 with 1 Axes>"
            ],
            "image/png": "[encoded data removed]"
          },
          "metadata": {
            "needs_background": "light"
          }
        }
      ],
      "source": [
        "plt.figure(figsize=(10,10))\n",
        "plt.plot(dataset.diff())"
      ]
    },
    {
      "cell_type": "markdown",
      "metadata": {
        "id": "eMFt_zwpZwT5"
      },
      "source": [
        "In this project, we are going to analyze the daily reported deaths"
      ]
    },
    {
      "cell_type": "code",
      "execution_count": 15,
      "metadata": {
        "id": "F5RlkhHbZwT5"
      },
      "outputs": [],
      "source": [
        "dataset = dataset.diff()"
      ]
    },
    {
      "cell_type": "markdown",
      "metadata": {
        "id": "N51RzUiBZwT5"
      },
      "source": [
        "We need to remove the first data point here, which will be a None value"
      ]
    },
    {
      "cell_type": "code",
      "execution_count": 16,
      "metadata": {
        "id": "7H2wHcrjZwT5"
      },
      "outputs": [],
      "source": [
        "dataset = dataset.loc['2020-01-23':'2020-08-13']"
      ]
    },
    {
      "cell_type": "markdown",
      "metadata": {
        "id": "14kQ72fNZwT5"
      },
      "source": [
        "# Task 2: Forcasting using SARIMAX, or Seasonal AutoRegressive Integrated Moving Average with eXogenous regressors model"
      ]
    },
    {
      "cell_type": "markdown",
      "metadata": {
        "id": "6aYp0tp1ZwT6"
      },
      "source": [
        "SARIMAX is one of the time series models in the python statistics library statsmodels."
      ]
    },
    {
      "cell_type": "markdown",
      "metadata": {
        "id": "AKnc-Iv1ZwT6"
      },
      "source": [
        "But before we apply the model, we will split our dataset into a training and test sets. We will do this by taking all dates prior to 31st of July as training set, on which the model will be optimized, and all dates from 31st July as the test set, on which we will test the accuracy of the predictions that the optimized model will make."
      ]
    },
    {
      "cell_type": "code",
      "execution_count": 18,
      "metadata": {
        "id": "gGiAZ1V1ZwT6"
      },
      "outputs": [],
      "source": [
        "start_date = '2020-07-31'\n",
        "\n",
        "train = dataset.loc[dataset.index < pd.to_datetime(start_date)]\n",
        "test = dataset.loc[dataset.index >= pd.to_datetime(start_date)]"
      ]
    },
    {
      "cell_type": "markdown",
      "metadata": {
        "id": "MF0WetmsZwT6"
      },
      "source": [
        "Now let's talk about SARIMAX. There are three hyperparameters that go into the order tuple: p, q and d. Here we've used p=2, q=1 and d=3. Next, we call the fit method to optimize the model."
      ]
    },
    {
      "cell_type": "code",
      "execution_count": 25,
      "metadata": {
        "id": "_Gfs0RrHZwT7"
      },
      "outputs": [],
      "source": [
        "sarimax_model = SARIMAX(train, order=(2,1,3)).fit(disp=True)"
      ]
    },
    {
      "cell_type": "markdown",
      "metadata": {
        "id": "l3jsB8bmZwT7"
      },
      "source": [
        "Now let's make predictions using the model, and compare those against the values in the test set."
      ]
    },
    {
      "cell_type": "code",
      "execution_count": 26,
      "metadata": {
        "colab": {
          "base_uri": "https://localhost:8080/",
          "height": 338
        },
        "id": "IPbVlwc7ZwT8",
        "outputId": "f06f3d32-a8ef-4345-e0af-3bf67f38ca29"
      },
      "outputs": [
        {
          "output_type": "execute_result",
          "data": {
            "text/plain": [
              "<matplotlib.legend.Legend at 0x7f0393239c50>"
            ]
          },
          "metadata": {},
          "execution_count": 26
        },
        {
          "output_type": "display_data",
          "data": {
            "text/plain": [
              "<Figure size 720x360 with 1 Axes>"
            ],
            "image/png": "[encoded data removed]"
          },
          "metadata": {
            "needs_background": "light"
          }
        }
      ],
      "source": [
        "sarimax_predictions = sarimax_model.predict(start=start_date, end='2020-08-13', dynamic=False,)\n",
        "\n",
        "plt.figure(figsize=(10,5))\n",
        "l1, = plt.plot(dataset, label='Observation')\n",
        "l2, = plt.plot(sarimax_predictions, label='ARIMA')\n",
        "plt.legend(handles=[l1,l2])"
      ]
    },
    {
      "cell_type": "markdown",
      "metadata": {
        "id": "9938ZADiZwT8"
      },
      "source": [
        "Since that we are interested in comparing between the different time series analysis approaches, we are going to use one of the validation measures: mean absolute error."
      ]
    },
    {
      "cell_type": "code",
      "execution_count": 28,
      "metadata": {
        "colab": {
          "base_uri": "https://localhost:8080/"
        },
        "id": "DeQMYMYVZwT8",
        "outputId": "5fa79dba-3ee1-4d6f-8893-d9da012fc70b"
      },
      "outputs": [
        {
          "output_type": "stream",
          "name": "stdout",
          "text": [
            "SARIMAX MAE =  650.6171763637095\n"
          ]
        }
      ],
      "source": [
        "print('SARIMAX MAE = ', mean_absolute_error(sarimax_predictions, test))"
      ]
    },
    {
      "cell_type": "markdown",
      "metadata": {
        "id": "A8b1xq03ZwT8"
      },
      "source": [
        "However, in a typical machine learning workflow, we should find the best values of p, q and r that will minimize the error. We can use the auto_arima function in the pmdarima module to do that. This will find the optimal parameter combintation and return the best model.\n"
      ]
    },
    {
      "cell_type": "code",
      "execution_count": 29,
      "metadata": {
        "colab": {
          "base_uri": "https://localhost:8080/"
        },
        "id": "oR_tWtNJZwT8",
        "outputId": "11f6fd02-9894-4944-d7b3-c4d0f84511a4"
      },
      "outputs": [
        {
          "output_type": "stream",
          "name": "stdout",
          "text": [
            "Performing stepwise search to minimize aic\n",
            " ARIMA(1,1,1)(0,0,0)[0] intercept   : AIC=3111.971, Time=0.17 sec\n",
            " ARIMA(0,1,0)(0,0,0)[0] intercept   : AIC=3132.320, Time=0.01 sec\n",
            " ARIMA(1,1,0)(0,0,0)[0] intercept   : AIC=3133.730, Time=0.02 sec\n",
            " ARIMA(0,1,1)(0,0,0)[0] intercept   : AIC=3133.267, Time=0.03 sec\n",
            " ARIMA(0,1,0)(0,0,0)[0]             : AIC=3130.535, Time=0.01 sec\n",
            " ARIMA(2,1,1)(0,0,0)[0] intercept   : AIC=3099.413, Time=0.24 sec\n",
            " ARIMA(2,1,0)(0,0,0)[0] intercept   : AIC=3128.118, Time=0.03 sec\n",
            " ARIMA(3,1,1)(0,0,0)[0] intercept   : AIC=3089.597, Time=0.41 sec\n",
            " ARIMA(3,1,0)(0,0,0)[0] intercept   : AIC=3116.490, Time=0.05 sec\n",
            " ARIMA(3,1,2)(0,0,0)[0] intercept   : AIC=3043.836, Time=0.53 sec\n",
            " ARIMA(2,1,2)(0,0,0)[0] intercept   : AIC=3040.433, Time=0.47 sec\n",
            " ARIMA(1,1,2)(0,0,0)[0] intercept   : AIC=3106.308, Time=0.40 sec\n",
            " ARIMA(2,1,3)(0,0,0)[0] intercept   : AIC=3025.719, Time=0.66 sec\n",
            " ARIMA(1,1,3)(0,0,0)[0] intercept   : AIC=3105.847, Time=0.43 sec\n",
            " ARIMA(3,1,3)(0,0,0)[0] intercept   : AIC=3033.084, Time=0.71 sec\n",
            " ARIMA(2,1,3)(0,0,0)[0]             : AIC=3024.848, Time=0.50 sec\n",
            " ARIMA(1,1,3)(0,0,0)[0]             : AIC=inf, Time=0.33 sec\n",
            " ARIMA(2,1,2)(0,0,0)[0]             : AIC=inf, Time=0.22 sec\n",
            " ARIMA(3,1,3)(0,0,0)[0]             : AIC=3036.912, Time=0.59 sec\n",
            " ARIMA(1,1,2)(0,0,0)[0]             : AIC=3106.064, Time=0.15 sec\n",
            " ARIMA(3,1,2)(0,0,0)[0]             : AIC=3030.661, Time=0.46 sec\n",
            "\n",
            "Best model:  ARIMA(2,1,3)(0,0,0)[0]          \n",
            "Total fit time: 6.453 seconds\n",
            "                               SARIMAX Results                                \n",
            "==============================================================================\n",
            "Dep. Variable:                      y   No. Observations:                  190\n",
            "Model:               SARIMAX(2, 1, 3)   Log Likelihood               -1506.424\n",
            "Date:                Thu, 28 Apr 2022   AIC                           3024.848\n",
            "Time:                        15:43:54   BIC                           3044.298\n",
            "Sample:                             0   HQIC                          3032.728\n",
            "                                - 190                                         \n",
            "Covariance Type:                  opg                                         \n",
            "==============================================================================\n",
            "                 coef    std err          z      P>|z|      [0.025      0.975]\n",
            "------------------------------------------------------------------------------\n",
            "ar.L1          1.2434      0.017     72.427      0.000       1.210       1.277\n",
            "ar.L2         -0.9796      0.019    -51.212      0.000      -1.017      -0.942\n",
            "ma.L1         -1.7687      0.065    -27.197      0.000      -1.896      -1.641\n",
            "ma.L2          1.4754      0.097     15.267      0.000       1.286       1.665\n",
            "ma.L3         -0.3939      0.064     -6.142      0.000      -0.520      -0.268\n",
            "sigma2      4.964e+05   3.61e+04     13.750      0.000    4.26e+05    5.67e+05\n",
            "===================================================================================\n",
            "Ljung-Box (L1) (Q):                   0.28   Jarque-Bera (JB):                95.44\n",
            "Prob(Q):                              0.59   Prob(JB):                         0.00\n",
            "Heteroskedasticity (H):              13.70   Skew:                             0.67\n",
            "Prob(H) (two-sided):                  0.00   Kurtosis:                         6.22\n",
            "===================================================================================\n",
            "\n",
            "Warnings:\n",
            "[1] Covariance matrix calculated using the outer product of gradients (complex-step).\n"
          ]
        }
      ],
      "source": [
        "model = pm.auto_arima(train, start_p=1, start_q=1,\n",
        "                      test='adf',       # use adftest to find optimal 'd'\n",
        "                      max_p=3, max_q=3, # maximum p and q\n",
        "                      m=1,              # frequency of series\n",
        "                      d=None,           # let model determine 'd'\n",
        "                      seasonal=False,   # No Seasonality\n",
        "                      start_P=0,\n",
        "                      D=0,\n",
        "                      trace=True,\n",
        "                      error_action='ignore',\n",
        "                      suppress_warnings=True,\n",
        "                      stepwise=True)\n",
        "\n",
        "print(model.summary())"
      ]
    },
    {
      "cell_type": "markdown",
      "metadata": {
        "id": "Q24domKrZwT9"
      },
      "source": [
        "# Task 3: Forcasting using Facebook's Prophet model"
      ]
    },
    {
      "cell_type": "markdown",
      "metadata": {
        "id": "mVZSo5FrZwT9"
      },
      "source": [
        "This is the open source time series library released by Facebook. It is also widely used by Facebook in their own time series analysis tasks. Facebook prophet does not require that you specify or search for hyperparameters. The model can act as a black box that does all the required computations on its own. And it works with the same object-fit-predict API.\n",
        "\n",
        "Prophet expects the data frame to have 2 columns, unlike SARIMAX."
      ]
    },
    {
      "cell_type": "code",
      "execution_count": 30,
      "metadata": {
        "id": "D8ce7hUjZwT-"
      },
      "outputs": [],
      "source": [
        "train['ds'] = train.index.values"
      ]
    },
    {
      "cell_type": "markdown",
      "metadata": {
        "id": "Um2ChZhhZwT-"
      },
      "source": [
        "Then we create a new Prophet object and call the `fit()` method"
      ]
    },
    {
      "cell_type": "code",
      "execution_count": 31,
      "metadata": {
        "colab": {
          "base_uri": "https://localhost:8080/"
        },
        "id": "_T8mePsfZwT-",
        "outputId": "89ebfeb7-442c-4973-cd16-e641297a728f"
      },
      "outputs": [
        {
          "output_type": "stream",
          "name": "stderr",
          "text": [
            "INFO:fbprophet:Disabling yearly seasonality. Run prophet with yearly_seasonality=True to override this.\n",
            "INFO:fbprophet:Disabling daily seasonality. Run prophet with daily_seasonality=True to override this.\n"
          ]
        }
      ],
      "source": [
        "prophet_model = Prophet().fit(train)"
      ]
    },
    {
      "cell_type": "markdown",
      "metadata": {
        "id": "Q4_42QcPZwT-"
      },
      "source": [
        "Now let's forecast:"
      ]
    },
    {
      "cell_type": "code",
      "execution_count": 35,
      "metadata": {
        "id": "mTDwnZbtZwT-"
      },
      "outputs": [],
      "source": [
        "future = prophet_model.make_future_dataframe(periods=dataset.shape[0]-train.shape[0])\n",
        "prophet_perdiction = prophet_model.predict(future)"
      ]
    },
    {
      "cell_type": "markdown",
      "metadata": {
        "id": "ry5BpOoOZwT-"
      },
      "source": [
        "Now let us calculate the mean absolute error for our predictions."
      ]
    },
    {
      "cell_type": "code",
      "execution_count": 38,
      "metadata": {
        "colab": {
          "base_uri": "https://localhost:8080/"
        },
        "id": "nEMOBwgNZwT_",
        "outputId": "edd2e58b-2d86-435f-8742-ce5f0ddd55b3"
      },
      "outputs": [
        {
          "output_type": "stream",
          "name": "stdout",
          "text": [
            "Prophet model MAE =  571.8872860781038\n"
          ]
        }
      ],
      "source": [
        "prophet_perdiction = prophet_perdiction.set_index('ds')\n",
        "prophet_future = prophet_perdiction.yhat.loc[prophet_perdiction.index >= start_date]\n",
        "print('Prophet model MAE = ', mean_absolute_error(prophet_future, test))"
      ]
    },
    {
      "cell_type": "markdown",
      "metadata": {
        "id": "tpHWpoimZwT_"
      },
      "source": [
        "Next, let's visualize the predictions."
      ]
    },
    {
      "cell_type": "code",
      "execution_count": 39,
      "metadata": {
        "colab": {
          "base_uri": "https://localhost:8080/",
          "height": 338
        },
        "id": "sNWVK98iZwT_",
        "outputId": "8078d7c9-56d6-46a2-ece4-ae61dd5aa6f1"
      },
      "outputs": [
        {
          "output_type": "execute_result",
          "data": {
            "text/plain": [
              "<matplotlib.legend.Legend at 0x7f038d588c10>"
            ]
          },
          "metadata": {},
          "execution_count": 39
        },
        {
          "output_type": "display_data",
          "data": {
            "text/plain": [
              "<Figure size 720x360 with 1 Axes>"
            ],
            "image/png": "[encoded data removed]"
          },
          "metadata": {
            "needs_background": "light"
          }
        }
      ],
      "source": [
        "plt.figure(figsize=(10,5))\n",
        "l1, = plt.plot(dataset, label='Observation')\n",
        "l2, = plt.plot(prophet_future, label='Prophet')\n",
        "plt.legend(handles=[l1,l2])"
      ]
    },
    {
      "cell_type": "markdown",
      "metadata": {
        "id": "Thf57GMcZwT_"
      },
      "source": [
        "# Task 4: Preparing the dataset for XGBOOST and NN"
      ]
    },
    {
      "cell_type": "markdown",
      "metadata": {
        "id": "SZVvAS9sZwT_"
      },
      "source": [
        "Unlike the prophet and SAIMAX models, the two models we will train in Task 6, namely XGBOOST and NN, are supervised machine learning models that deal with independent data points, or examples. It assumes that each data point is totally independent from the rest of the data points in the dataset.\n",
        "\n",
        "Here is a method that extracts these features from a given dataframe object."
      ]
    },
    {
      "cell_type": "code",
      "execution_count": 42,
      "metadata": {
        "colab": {
          "base_uri": "https://localhost:8080/",
          "height": 206
        },
        "id": "1Mq6YbyvZwUA",
        "outputId": "c92b3b23-aba8-491d-8d4e-e5128c1bed6f"
      },
      "outputs": [
        {
          "output_type": "execute_result",
          "data": {
            "text/plain": [
              "   day  month  quatter  dayOfWeek  dayOfYear  weekOfYear\n",
              "0   23      1        1          3         23           4\n",
              "1   24      1        1          4         24           4\n",
              "2   25      1        1          5         25           4\n",
              "3   26      1        1          6         26           4\n",
              "4   27      1        1          0         27           5"
            ],
            "text/html": [
              "\n",
              "  <div id=\"df-bacb6cbd-e275-49d0-906c-c6b158f820c3\">\n",
              "    <div class=\"colab-df-container\">\n",
              "      <div>\n",
              "<style scoped>\n",
              "    .dataframe tbody tr th:only-of-type {\n",
              "        vertical-align: middle;\n",
              "    }\n",
              "\n",
              "    .dataframe tbody tr th {\n",
              "        vertical-align: top;\n",
              "    }\n",
              "\n",
              "    .dataframe thead th {\n",
              "        text-align: right;\n",
              "    }\n",
              "</style>\n",
              "<table border=\"1\" class=\"dataframe\">\n",
              "  <thead>\n",
              "    <tr style=\"text-align: right;\">\n",
              "      <th></th>\n",
              "      <th>day</th>\n",
              "      <th>month</th>\n",
              "      <th>quatter</th>\n",
              "      <th>dayOfWeek</th>\n",
              "      <th>dayOfYear</th>\n",
              "      <th>weekOfYear</th>\n",
              "    </tr>\n",
              "  </thead>\n",
              "  <tbody>\n",
              "    <tr>\n",
              "      <th>0</th>\n",
              "      <td>23</td>\n",
              "      <td>1</td>\n",
              "      <td>1</td>\n",
              "      <td>3</td>\n",
              "      <td>23</td>\n",
              "      <td>4</td>\n",
              "    </tr>\n",
              "    <tr>\n",
              "      <th>1</th>\n",
              "      <td>24</td>\n",
              "      <td>1</td>\n",
              "      <td>1</td>\n",
              "      <td>4</td>\n",
              "      <td>24</td>\n",
              "      <td>4</td>\n",
              "    </tr>\n",
              "    <tr>\n",
              "      <th>2</th>\n",
              "      <td>25</td>\n",
              "      <td>1</td>\n",
              "      <td>1</td>\n",
              "      <td>5</td>\n",
              "      <td>25</td>\n",
              "      <td>4</td>\n",
              "    </tr>\n",
              "    <tr>\n",
              "      <th>3</th>\n",
              "      <td>26</td>\n",
              "      <td>1</td>\n",
              "      <td>1</td>\n",
              "      <td>6</td>\n",
              "      <td>26</td>\n",
              "      <td>4</td>\n",
              "    </tr>\n",
              "    <tr>\n",
              "      <th>4</th>\n",
              "      <td>27</td>\n",
              "      <td>1</td>\n",
              "      <td>1</td>\n",
              "      <td>0</td>\n",
              "      <td>27</td>\n",
              "      <td>5</td>\n",
              "    </tr>\n",
              "  </tbody>\n",
              "</table>\n",
              "</div>\n",
              "      <button class=\"colab-df-convert\" onclick=\"convertToInteractive('df-bacb6cbd-e275-49d0-906c-c6b158f820c3')\"\n",
              "              title=\"Convert this dataframe to an interactive table.\"\n",
              "              style=\"display:none;\">\n",
              "        \n",
              "  <svg xmlns=\"http://www.w3.org/2000/svg\" height=\"24px\"viewBox=\"0 0 24 24\"\n",
              "       width=\"24px\">\n",
              "    <path d=\"M0 0h24v24H0V0z\" fill=\"none\"/>\n",
              "    <path d=\"M18.56 5.44l.94 2.06.94-2.06 2.06-.94-2.06-.94-.94-2.06-.94 2.06-2.06.94zm-11 1L8.5 8.5l.94-2.06 2.06-.94-2.06-.94L8.5 2.5l-.94 2.06-2.06.94zm10 10l.94 2.06.94-2.06 2.06-.94-2.06-.94-.94-2.06-.94 2.06-2.06.94z\"/><path d=\"M17.41 7.96l-1.37-1.37c-.4-.4-.92-.59-1.43-.59-.52 0-1.04.2-1.43.59L10.3 9.45l-7.72 7.72c-.78.78-.78 2.05 0 2.83L4 21.41c.39.39.9.59 1.41.59.51 0 1.02-.2 1.41-.59l7.78-7.78 2.81-2.81c.8-.78.8-2.07 0-2.86zM5.41 20L4 18.59l7.72-7.72 1.47 1.35L5.41 20z\"/>\n",
              "  </svg>\n",
              "      </button>\n",
              "      \n",
              "  <style>\n",
              "    .colab-df-container {\n",
              "      display:flex;\n",
              "      flex-wrap:wrap;\n",
              "      gap: 12px;\n",
              "    }\n",
              "\n",
              "    .colab-df-convert {\n",
              "      background-color: #E8F0FE;\n",
              "      border: none;\n",
              "      border-radius: 50%;\n",
              "      cursor: pointer;\n",
              "      display: none;\n",
              "      fill: #1967D2;\n",
              "      height: 32px;\n",
              "      padding: 0 0 0 0;\n",
              "      width: 32px;\n",
              "    }\n",
              "\n",
              "    .colab-df-convert:hover {\n",
              "      background-color: #E2EBFA;\n",
              "      box-shadow: 0px 1px 2px rgba(60, 64, 67, 0.3), 0px 1px 3px 1px rgba(60, 64, 67, 0.15);\n",
              "      fill: #174EA6;\n",
              "    }\n",
              "\n",
              "    [theme=dark] .colab-df-convert {\n",
              "      background-color: #3B4455;\n",
              "      fill: #D2E3FC;\n",
              "    }\n",
              "\n",
              "    [theme=dark] .colab-df-convert:hover {\n",
              "      background-color: #434B5C;\n",
              "      box-shadow: 0px 1px 3px 1px rgba(0, 0, 0, 0.15);\n",
              "      filter: drop-shadow(0px 1px 2px rgba(0, 0, 0, 0.3));\n",
              "      fill: #FFFFFF;\n",
              "    }\n",
              "  </style>\n",
              "\n",
              "      <script>\n",
              "        const buttonEl =\n",
              "          document.querySelector('#df-bacb6cbd-e275-49d0-906c-c6b158f820c3 button.colab-df-convert');\n",
              "        buttonEl.style.display =\n",
              "          google.colab.kernel.accessAllowed ? 'block' : 'none';\n",
              "\n",
              "        async function convertToInteractive(key) {\n",
              "          const element = document.querySelector('#df-bacb6cbd-e275-49d0-906c-c6b158f820c3');\n",
              "          const dataTable =\n",
              "            await google.colab.kernel.invokeFunction('convertToInteractive',\n",
              "                                                     [key], {});\n",
              "          if (!dataTable) return;\n",
              "\n",
              "          const docLinkHtml = 'Like what you see? Visit the ' +\n",
              "            '<a target=\"_blank\" href=https://colab.research.google.com/notebooks/data_table.ipynb>data table notebook</a>'\n",
              "            + ' to learn more about interactive tables.';\n",
              "          element.innerHTML = '';\n",
              "          dataTable['output_type'] = 'display_data';\n",
              "          await google.colab.output.renderOutput(dataTable, element);\n",
              "          const docLink = document.createElement('div');\n",
              "          docLink.innerHTML = docLinkHtml;\n",
              "          element.appendChild(docLink);\n",
              "        }\n",
              "      </script>\n",
              "    </div>\n",
              "  </div>\n",
              "  "
            ]
          },
          "metadata": {},
          "execution_count": 42
        }
      ],
      "source": [
        "def featurize(t):\n",
        "    X = pd.DataFrame()\n",
        "\n",
        "    X['day']   = t.index.day\n",
        "    X['month'] = t.index.month\n",
        "    X['quatter'] = t.index.quarter\n",
        "    X['dayOfWeek'] = t.index.dayofweek\n",
        "    X['dayOfYear'] = t.index.dayofyear\n",
        "    X['dayOfWeek'] = t.index.dayofweek\n",
        "    X['weekOfYear'] = t.index.weekofyear\n",
        "\n",
        "    y = t.y\n",
        "    return X, y\n",
        "\n",
        "featurize(dataset)[0].head()\n"
      ]
    },
    {
      "cell_type": "markdown",
      "metadata": {
        "id": "kQiavpg5ZwUA"
      },
      "source": [
        "# Task 5: Create training and test datasets by splitting the dataset, and perform data normalization."
      ]
    },
    {
      "cell_type": "markdown",
      "metadata": {
        "id": "61BkAt-rZwUA"
      },
      "source": [
        "In this task we are going to cover two topics in data preparation: splitting the dataset into training and test data, and normalizing the data.\n",
        "\n",
        "You might have already performed a splitting operation of a dataset in machine learning, where one takes a randomly selected portion of the dataset, say 20%, as a test set, while the remaining 80% is the training set. It is randomly selected because the whole dataset is randomly shufflled before the selection. Another popular approach is the k-fold cross validation.\n",
        "\n",
        "However, those two methods won't work with time series data. The reason is: when we train the model on the training set, the purpose is to predict the target values in the future, which corresponds to date values that are outside of the date values in the training set."
      ]
    },
    {
      "cell_type": "code",
      "execution_count": 43,
      "metadata": {
        "id": "c1B0RWHfZwUA"
      },
      "outputs": [],
      "source": [
        "X_train, y_train = featurize(dataset.loc[dataset.index < pd.to_datetime(start_date)])\n",
        "X_test, y_test   = featurize(dataset.loc[dataset.index >= pd.to_datetime(start_date)])"
      ]
    },
    {
      "cell_type": "markdown",
      "metadata": {
        "id": "iGsPcDDfZwUA"
      },
      "source": [
        "Now let's discuss data normalization. We perform data normalization so as to make the range of values of the features, or the columns in the X_train table, as close as possible. For example, we have the features dayofweek and dayofyear. The range of values of dayofweek is from 1 to 7, whereas dayofyear is from 1 to 365. Having such large differences in the ranges of values will either slow down the training of the machine learning model or make it quite difficult. We solve this problem by applying normalization. There are several ways we can normalize the data with. Here I will choose the StandardScaler, which applies the following equation on each of the columns.\n",
        "\n",
        "z = (x - u) / s\n",
        "\n",
        "Here x is the column before scaling, u is thee mean and s is the standard deviation. So basically, we subtract the mean of each column from itself, then divide by the standard deviation of that column. To apply StandardScaler, we first fit the scaler object to the dataset:\n"
      ]
    },
    {
      "cell_type": "code",
      "execution_count": 44,
      "metadata": {
        "id": "CSYUG7QVZwUA"
      },
      "outputs": [],
      "source": [
        "scaler = StandardScaler().fit(X_train)"
      ]
    },
    {
      "cell_type": "markdown",
      "metadata": {
        "id": "f3mtCABmZwUB"
      },
      "source": [
        "Apply the scaling to both the training and test sets, as follows."
      ]
    },
    {
      "cell_type": "code",
      "execution_count": 45,
      "metadata": {
        "id": "H5fDqEATZwUB"
      },
      "outputs": [],
      "source": [
        "X_train_scaled = scaler.transform(X_train)\n",
        "X_test_scaled = scaler.transform(X_test)"
      ]
    },
    {
      "cell_type": "markdown",
      "metadata": {
        "id": "GDqo8KVvZwUB"
      },
      "source": [
        "# Task 6: Train the XGBOOST and NN models"
      ]
    },
    {
      "cell_type": "markdown",
      "metadata": {
        "id": "trRm5Ah6ZwUB"
      },
      "source": [
        "First, create the XGBRegressor object which will represent the XGBOOST regression model."
      ]
    },
    {
      "cell_type": "code",
      "execution_count": 99,
      "metadata": {
        "id": "y9z51969ZwUB"
      },
      "outputs": [],
      "source": [
        "XGBoost_model = XGBRegressor(n_estimators=40)"
      ]
    },
    {
      "cell_type": "markdown",
      "metadata": {
        "id": "CEKe8yQFZwUB"
      },
      "source": [
        "Next, train the XGBOOST regression model using the fit method, and perform prediction using the predict method."
      ]
    },
    {
      "cell_type": "code",
      "execution_count": 100,
      "metadata": {
        "colab": {
          "base_uri": "https://localhost:8080/"
        },
        "id": "161D8LroZwUC",
        "outputId": "8a369ca0-1a55-40bf-b99c-ee40bb2be81a"
      },
      "outputs": [
        {
          "output_type": "stream",
          "name": "stdout",
          "text": [
            "[16:28:52] WARNING: /workspace/src/objective/regression_obj.cu:152: reg:linear is now deprecated in favor of reg:squarederror.\n"
          ]
        }
      ],
      "source": [
        "XGBoost_model.fit(X=X_train_scaled, y=y_train,\n",
        "                  eval_set=[(X_train_scaled, y_train), (X_test_scaled, y_test)],\n",
        "                  verbose=False)\n",
        "XGBoost_prediction = XGBoost_model.predict(X_test_scaled)"
      ]
    },
    {
      "cell_type": "markdown",
      "metadata": {
        "id": "8slksIXEZwUC"
      },
      "source": [
        "Let us calculate the mean absolute error for the training."
      ]
    },
    {
      "cell_type": "code",
      "execution_count": 101,
      "metadata": {
        "colab": {
          "base_uri": "https://localhost:8080/"
        },
        "id": "R2PyvohTZwUC",
        "outputId": "006a885e-7267-4be1-ef08-892b025b178a"
      },
      "outputs": [
        {
          "output_type": "stream",
          "name": "stdout",
          "text": [
            "XGBoost MAE =  282.05601283482144\n"
          ]
        }
      ],
      "source": [
        "print('XGBoost MAE = ', mean_absolute_error(XGBoost_prediction, y_test))"
      ]
    },
    {
      "cell_type": "markdown",
      "metadata": {
        "id": "onv-gSpnZwUC"
      },
      "source": [
        "Creation and training of the feedforward neural network model."
      ]
    },
    {
      "cell_type": "code",
      "execution_count": null,
      "metadata": {
        "id": "QgwiWK1AZwUC"
      },
      "outputs": [],
      "source": [
        "NN_model = Sequential()\n",
        "NN_model.add(Dense(20, input_shape=(X_train_scaled.shape[1],)))\n",
        "NN_model.add(Dense(20))\n",
        "NN_model.add(Dense(1))\n",
        "\n",
        "NN_model.compile(loss='mean_absolute_error', optimizer=Adam(lr=0.001))\n",
        "NN_model.fit(X_train_scaled, y_train, validation_data=(X_test_scaled,y_test), epochs=220, verbose=True)\n",
        "NN_prediction = NN_model.predict(X_test_scaled)"
      ]
    },
    {
      "cell_type": "markdown",
      "metadata": {
        "id": "_hgfwNeZZwUC"
      },
      "source": [
        "Let's compare the MAE values."
      ]
    },
    {
      "cell_type": "code",
      "execution_count": 94,
      "metadata": {
        "colab": {
          "base_uri": "https://localhost:8080/"
        },
        "id": "XiF00alpZwUC",
        "outputId": "7fd1573f-6083-4be4-da58-fc630eb62175"
      },
      "outputs": [
        {
          "output_type": "stream",
          "name": "stdout",
          "text": [
            "SARIMA MAE =  650.6171763637095\n",
            "Prophet MAE =  571.8872860781038\n",
            "XGBoost MAE =  282.05601283482144\n",
            "NN MAE =  971.6902553013393\n"
          ]
        }
      ],
      "source": [
        "print('SARIMA MAE = ', mean_absolute_error(sarimax_predictions, y_test))\n",
        "print('Prophet MAE = ', mean_absolute_error(prophet_future, y_test))\n",
        "print('XGBoost MAE = ', mean_absolute_error(XGBoost_prediction, y_test))\n",
        "print('NN MAE = ', mean_absolute_error(NN_prediction, y_test))\n"
      ]
    },
    {
      "cell_type": "markdown",
      "metadata": {
        "id": "RyaGM-JrZwUD"
      },
      "source": [
        "Finally let us visualize the predictions of all 4 models. Note the autofmt_xdate method in matplotlib, it knows how to appropriately rotate the date labels on the x-axis."
      ]
    },
    {
      "cell_type": "code",
      "execution_count": 95,
      "metadata": {
        "colab": {
          "base_uri": "https://localhost:8080/",
          "height": 318
        },
        "id": "R1X_CdzcZwUD",
        "outputId": "7ae52b61-b1bf-434c-e99b-a45bf8355a1f"
      },
      "outputs": [
        {
          "output_type": "display_data",
          "data": {
            "text/plain": [
              "<Figure size 1440x1440 with 0 Axes>"
            ]
          },
          "metadata": {}
        },
        {
          "output_type": "display_data",
          "data": {
            "text/plain": [
              "<Figure size 432x288 with 4 Axes>"
            ],
            "image/png": "[encoded data removed]"
          },
          "metadata": {
            "needs_background": "light"
          }
        }
      ],
      "source": [
        "\n",
        "XGBOOST_df = pd.DataFrame({'y': XGBoost_prediction.tolist()})\n",
        "XGBOOST_df.index = y_test.index\n",
        "\n",
        "NN_df = pd.DataFrame(NN_prediction)\n",
        "NN_df.index = y_test.index\n",
        "plt.figure(figsize=(20, 20))\n",
        "fig, axs = plt.subplots(2, 2)\n",
        "fig.suptitle('Compare SARIMAX, prophet, XGBOOST and NN')\n",
        "axs[0, 0].plot(dataset.tail(50))\n",
        "axs[0, 0].plot(sarimax_predictions.tail(50))\n",
        "axs[0, 0].set_title(\"SARIMAX\")\n",
        "axs[0, 1].plot(dataset.tail(50))\n",
        "axs[0, 1].plot(prophet_future.tail(50))\n",
        "axs[0, 1].set_title(\"Prophet\")\n",
        "axs[1, 0].plot(dataset.tail(50))\n",
        "axs[1, 0].plot(XGBOOST_df.tail(50))\n",
        "axs[1, 0].set_title(\"XGBOOST\")\n",
        "axs[1, 1].plot(dataset.tail(50))\n",
        "axs[1, 1].plot(NN_df.tail(50))\n",
        "axs[1, 1].set_title(\"NN\")\n",
        "\n",
        "for ax in fig.get_axes():\n",
        "    ax.label_outer()\n",
        "fig.autofmt_xdate()\n",
        "\n",
        "plt.savefig('Comparison',\n",
        "            bbox_inches='tight', transparent=False)"
      ]
    },
    {
      "cell_type": "code",
      "source": [
        ""
      ],
      "metadata": {
        "id": "XeHU07pA_ArC"
      },
      "execution_count": null,
      "outputs": []
    }
  ],
  "metadata": {
    "kernelspec": {
      "display_name": "Python 3",
      "language": "python",
      "name": "python3"
    },
    "language_info": {
      "codemirror_mode": {
        "name": "ipython",
        "version": 3
      },
      "file_extension": ".py",
      "mimetype": "text/x-python",
      "name": "python",
      "nbconvert_exporter": "python",
      "pygments_lexer": "ipython3",
      "version": "3.6.9"
    },
    "colab": {
      "name": "TimeSeriesCOVID19.ipynb",
      "provenance": [],
      "machine_shape": "hm",
      "include_colab_link": true
    },
    "accelerator": "GPU"
  },
  "nbformat": 4,
  "nbformat_minor": 0
}